{
 "cells": [
  {
   "cell_type": "markdown",
   "metadata": {},
   "source": [
    "# Recruit Restaurant Visitor Forecasting Project Report"
   ]
  },
  {
   "cell_type": "markdown",
   "metadata": {},
   "source": [
    "### OVERVIEW\n",
    "This Capstone Project aims at coming up with a model to forecast the number of visitors to a restaturant on future date.\n",
    "Accurate forecasting is possible using the restaurant's past reservation, visiting data, geographical location,\n",
    "kind of day(whether it is a weekend/holiday), Genre of food being offered and supplementary weather data in Japan.\n",
    "The model is provided with restaurant id and\n",
    "Dates from the \"golden week\"(holiday week in Japan that covers the last week of April and May of 2017) for prediction of number of visitors. "
   ]
  },
  {
   "cell_type": "markdown",
   "metadata": {},
   "source": [
    "### The Client\n",
    "The Client here is Recruit Holdings who wants to automate the process of number of visitors a restaurant can expect in future date.\n",
    "The process of predicting the number of visitors to a restaurant isn't a simple one. It is dependent on so many factors like local restaurants competition,\n",
    "weather of the place where the restataurant is located.\n",
    "\n",
    "Recruit Holdings has unique access to the datasets that could make this forecast possible. Recruit Holdings owns  Hot Pepper Gourmet (a restaurant review service), AirREGI (a restaurant point of sales service), and Restaurant Board (reservation log management software).\n",
    "From these sources the past reservation data, visitor count, geographical information of the restaurants are made available.\n",
    "\n",
    "This would serve the following purposes for the client.\n",
    "   1. How many customers are expected to visit the restaurant in the golden week season in Japan.\n",
    "   2. Effective Cost Management in purchasing ingredients, Scheduling staff by knowing by the number of visiotrs.\n",
    "   3. Minimize the loss involved with Inventory.\n",
    "   4. What's the most favorite genre of food that people are eating.Knowing the taste of customers much better.\n",
    "\n",
    "Knowing these things by the forecast model in advance the restauant can focus more in giving better quality of food and service to the customers visited.\n",
    "Additionally, factors that lead to the success of a  restaurant can be understood much better and could be guiding principles for new\n",
    "restaurants."
   ]
  },
  {
   "cell_type": "markdown",
   "metadata": {},
   "source": [
    "### Dataset\n",
    "As part of the kaggle competition, Recruit Holdinigs has provided access to the data(in csv format) which comes from two different sources it owns AirREGI(a restaurant point of sales service), Restaurant Board (reservation log management software) and Hot Pepper Gourmet( (a restaurant review service).\n",
    "\n",
    "1.) In the competition, date restrictions were given for train and test set.</br>\n",
    "2.) The training data covers the dates from 2016 until April 2017. </br>\n",
    "3.) The test set covers the last week of April and  May of 2017 and covers a chosen subset  </br>\n",
    "     of the air restaurants and intentionally spans a holiday week in Japan called the \"Golden Week.\"\n",
    "\n",
    "The data comes in different .csv files </br>\n",
    "    <b> air_reserve.csv </b> Reservation data of restaturants in Air system </br>\n",
    "    <b> hpg_reserve.csv </b>  Reservation data of restaturants in HPG system  </br>\n",
    "    <b> air_store_info.csv </b> This file contains information about select air restaurants about their location, type of food serving  </br>\n",
    "    <b> hpg_store_info.csv </b> This file contains information about select hpg restaurants about their location, type of food serving  </br>\n",
    "    <b> store_id_relation.csv </b> This file allows you to join select restaurants that have both the air and hpg system. </br>\n",
    "    <b> air_visit_data.csv </b>  historical visit data for the air restaurants. </br>\n",
    "    <b> date_info.csv </b> basic information about the calendar dates in the dataset like holiday information </br>\n",
    "\n"
   ]
  },
  {
   "cell_type": "markdown",
   "metadata": {},
   "source": [
    "#### Data Wrangling\n",
    "The first and foremost step is to load the given datasets and clean them using pandas dataframes. As the data is in \n",
    "    different files, need to perform merge/ Join operations to present meaningful data for further analysis in prediction\n"
   ]
  },
  {
   "cell_type": "markdown",
   "metadata": {},
   "source": [
    "<img src=\"./img/data_wrangler.png\">\n"
   ]
  },
  {
   "cell_type": "markdown",
   "metadata": {},
   "source": [
    "1. Performed Inner join between hpg_reserve data and store_id_relation table based on <b>'hpg_store_id'</b> to get intersection of the data </br>\n",
    "2. Changed calendar dates in data from string to datetime format.\n",
    "3. Mapped hpg stores with their equivalent air store ids as the final test set given is having air store ids for forecasting\n",
    "4. Performed various joins on hpg and air system tables to get complete data in a single table for further analysis.\n",
    "5. Added holiday column using date_info table based on calendar date\n",
    "6. Included min_visitors, max_visitors, median_visitors, reserve_visitors column\n",
    "7. Added reserve_time_diff column which represents the time difference between reservation date and visited date.\n",
    "8. After cleaning data, train and test data are stored separately as Train_data.csv, Test_data.csv files"
   ]
  },
  {
   "cell_type": "markdown",
   "metadata": {},
   "source": [
    "### Exploratory Data visualization Analysis\n",
    "In this section, various insights were presented based on data visualization techniques\n",
    "#### Trend in visitor count with and without Reservations"
   ]
  },
  {
   "cell_type": "markdown",
   "metadata": {},
   "source": [
    "<img src='./img/trend_line_visitors.png'>\n",
    "From the plot above, it can be inferred that very high number customers are visiting restaurant without reservations in combined\n",
    "air & hpg systems"
   ]
  },
  {
   "cell_type": "markdown",
   "metadata": {},
   "source": [
    "#### Most preferred food type\n",
    "<img src = './img/food_preference.png'>"
   ]
  },
  {
   "cell_type": "markdown",
   "metadata": {},
   "source": [
    "\n",
    "1.) Most of the visitors in all restaturants prefer to order <b> Izakaya </b> food, the visitor count is more than 1400000 </br>\n",
    "2.) Next to Izakaya, most are eating in cafe for snacks/sweets. </br>\n",
    "3.) The third most eaten food in Japanese restaturants is <b> Italian/French </b> cuisine </br>\n"
   ]
  },
  {
   "cell_type": "markdown",
   "metadata": {},
   "source": [
    "#### Holiday effect on visitors\n",
    "<img src = './img/visitor_count_in_week_with_holiday_effect.png'>"
   ]
  },
  {
   "cell_type": "markdown",
   "metadata": {},
   "source": [
    "1.) When there is no holiday for a restaurant, more number of visitors are expected in weekends(Saturday, Sunday) </br>\n",
    "2.) Suprisingly in holidays, friday has more number of visitors </br>\n",
    "3.) In both holiday and no-holiday days Monday has lower number of visitors"
   ]
  },
  {
   "cell_type": "markdown",
   "metadata": {},
   "source": [
    "### Inferential Statistics\n",
    "#### Forming Hypothesis\n",
    "#### Null Hypothesis : $H_{0}$ : Average number of visitors ordering Izakaya food is equal to average number of visitors ordering Other food types $\\mu_{1}$ = $\\mu_{2}$ <br> Alternante Hypothesis : $H_{A}$ :  Average number of visitors ordering Izakaya food is greater than the average number of visitors ordering Other food types$\\mu_{1}$ !=  $\\mu_{2}$ <br> The threshold value of $\\alpha$ is assumed to be 0.05. Assuming Null Hypothesis is true."
   ]
  },
  {
   "cell_type": "markdown",
   "metadata": {},
   "source": [
    "#### Distribution of visitors for Izkaya genre\n",
    "<img src = './img/izakaya_distribution.png', width='800'>"
   ]
  },
  {
   "cell_type": "markdown",
   "metadata": {},
   "source": [
    "#### Distribution of visitors for other genre\n",
    "<img src = './img/other_distribution.png', width = '800'>"
   ]
  },
  {
   "cell_type": "markdown",
   "metadata": {},
   "source": [
    "<b> Used student's t-statistic(Pooled variances) as the variance of population is unknown </br>\n",
    "<b> The p-value calculated from test is (1.0145574677365108e-284), it is evident that mean number of customers eating Izakaya food is statistically significant."
   ]
  },
  {
   "cell_type": "markdown",
   "metadata": {},
   "source": [
    "#### Conclusion"
   ]
  },
  {
   "cell_type": "markdown",
   "metadata": {},
   "source": [
    "In this report, the process of Data Wrangling, Exploratory Data Analysis, Data Visualization,</br>\n",
    "Hypothesis testing performed on the dataset of Restaturant visitor data </br>"
   ]
  },
  {
   "cell_type": "markdown",
   "metadata": {},
   "source": [
    "### Machine Learning"
   ]
  },
  {
   "cell_type": "markdown",
   "metadata": {},
   "source": [
    "### Base Line model "
   ]
  },
  {
   "cell_type": "markdown",
   "metadata": {},
   "source": [
    "Considered this as a Regression problem, a base line model is constructed using Linear Regression model, </br>\n",
    "As the test metric for the competition problem is Root mean sqaured Error (RMSE), the score obtained for Test set  in kaggle execution is <b> 0.568</b>"
   ]
  },
  {
   "cell_type": "markdown",
   "metadata": {},
   "source": [
    "### Ensemble modelling"
   ]
  },
  {
   "cell_type": "markdown",
   "metadata": {},
   "source": [
    "Considered approach of Ensemble modelling for this forecasting problem.\n",
    "Used different models like RandomForest Regressor and also used XGBoost Regressor"
   ]
  },
  {
   "cell_type": "markdown",
   "metadata": {},
   "source": [
    "Random forest regressor, this model is trained first by tuning hyper parameters max_depth, max_features, min_samples_leaf, n_estimators </br>\n",
    "Used KFold, GridSearch techniques to find out the optimal parameters and they are  found to be as shown below. </br>\n",
    "<b>\n",
    "{'max_depth': 15, </br>\n",
    " 'max_features': 10, </br>\n",
    " 'min_samples_leaf': 1, </br>\n",
    " 'n_estimators': 1000} </b>"
   ]
  },
  {
   "cell_type": "markdown",
   "metadata": {},
   "source": [
    "### Feature importances"
   ]
  },
  {
   "cell_type": "markdown",
   "metadata": {},
   "source": [
    "the feature importances are found from the random forest regressor model"
   ]
  },
  {
   "cell_type": "markdown",
   "metadata": {},
   "source": [
    "<img src = './img/feature_imps.png',width='800'>"
   ]
  },
  {
   "cell_type": "markdown",
   "metadata": {},
   "source": [
    "From the plot of feature importances, average number of visitors(mean_visitors) to a restaurant is having high importance as a feature"
   ]
  },
  {
   "cell_type": "markdown",
   "metadata": {},
   "source": [
    "#### [The github repository for the code can be found here](https://github.com/nishalpattan/SPRINGBOARD/tree/master/Capstone_Project)"
   ]
  },
  {
   "cell_type": "code",
   "execution_count": null,
   "metadata": {},
   "outputs": [],
   "source": []
  }
 ],
 "metadata": {
  "kernelspec": {
   "display_name": "Python 3",
   "language": "python",
   "name": "python3"
  },
  "language_info": {
   "codemirror_mode": {
    "name": "ipython",
    "version": 3
   },
   "file_extension": ".py",
   "mimetype": "text/x-python",
   "name": "python",
   "nbconvert_exporter": "python",
   "pygments_lexer": "ipython3",
   "version": "3.6.3"
  }
 },
 "nbformat": 4,
 "nbformat_minor": 2
}
