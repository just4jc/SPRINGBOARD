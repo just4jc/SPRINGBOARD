{
 "cells": [
  {
   "cell_type": "markdown",
   "metadata": {},
   "source": [
    "# Recruit Restaurant Visitor Forecasting  [Kaggle Competition](https://www.kaggle.com/c/recruit-restaurant-visitor-forecasting)\n",
    "### Predict how many future visitors a restaurant will receive "
   ]
  },
  {
   "cell_type": "markdown",
   "metadata": {},
   "source": [
    "### What is the problem you want to solve ?\n",
    " My problem statement here is to forecast the number of vistors a restaturant will receive in the given future date.\n",
    " For this competition the visitor data, reservation data, weather data are provided in Japan."
   ]
  },
  {
   "cell_type": "markdown",
   "metadata": {},
   "source": [
    "### Who is your client and why do they care about this problem? In other words, what  will your client DO or DECIDE based on your analysis that they wouldn’t have  otherwise? \n",
    "\n",
    "My Client here is a Restaurant owner who wants to know the number of visitors to his restaurant on a given future date. So, How my client\n",
    "makes use of this customer prediction? If my client recently opened a restaturant and has less amount of previous data and he wants to improve his business by knowing the number of visitors \n",
    "in future date using the data of local competitors, weather conditions so that he can effectively manage things in purchasing ingredients and  \n",
    "scheduling staff members. Based on this the restaurant owner can focus in giving best dining service for their customers."
   ]
  },
  {
   "cell_type": "code",
   "execution_count": null,
   "metadata": {},
   "outputs": [],
   "source": [
    "### What data are you going to use for this? How will you acquire this data?\n",
    "The data comes from two different websites provided by Recruit Holdings. The data is completely having data of restaurants in Japan.\n",
    "   [Hot Pepper Gourmet (hpg)] (https://www.hotpepper-gourmet.com/en/)\n",
    "    \n",
    "   [AirREGI / Restaurant Board (air)] (https://air-regi.com/). \n",
    "\n",
    "Data From hpg, AirREGI are downloaded from kaggle competition link.\n",
    "I am interested in adding external weather data.\n",
    "   [weather data for locations in Japan] (http://worldweather.wmo.int/en/dataguide.html)\n",
    "\n",
    "Below added file descriptions of the data provided.\n",
    "\n",
    "### File Descriptions\n",
    "This is a relational dataset from two systems. Each file is prefaced with the source (either air_ or hpg_) to indicate its origin. Each restaurant has a unique air_store_id and hpg_store_id. Note that not all restaurants are covered by both systems, and that you have been provided data beyond the restaurants for which you must forecast. Latitudes and Longitudes are not exact to discourage de-identification of restaurants.\n",
    "\n",
    "#### air_reserve.csv\n",
    "This file contains reservations made in the air system. Note that the reserve_datetime indicates the time when the reservation was created, whereas the visit_datetime is the time in the future where the visit will occur.\n",
    "\n",
    "#### air_store_id - the restaurant's id in the air system\n",
    "#### visit_datetime - the time of the reservation\n",
    "#### reserve_datetime - the time the reservation was made\n",
    "#### reserve_visitors - the number of visitors for that reservation\n",
    "####hpg_reserve.csv\n",
    "This file contains reservations made in the hpg system.\n",
    "\n",
    "hpg_store_id - the restaurant's id in the hpg system\n",
    "visit_datetime - the time of the reservation\n",
    "reserve_datetime - the time the reservation was made\n",
    "reserve_visitors - the number of visitors for that reservation\n",
    "air_store_info.csv\n",
    "This file contains information about select air restaurants. Column names and contents are self-explanatory.\n",
    "\n",
    "air_store_id\n",
    "air_genre_name\n",
    "air_area_name\n",
    "latitude\n",
    "longitude\n",
    "Note: latitude and longitude are the latitude and longitude of the area to which the store belongs\n",
    "\n",
    "hpg_store_info.csv\n",
    "This file contains information about select hpg restaurants. Column names and contents are self-explanatory.\n",
    "\n",
    "hpg_store_id\n",
    "hpg_genre_name\n",
    "hpg_area_name\n",
    "latitude\n",
    "longitude\n",
    "Note: latitude and longitude are the latitude and longitude of the area to which the store belongs\n",
    "\n",
    "store_id_relation.csv\n",
    "This file allows you to join select restaurants that have both the air and hpg system.\n",
    "\n",
    "hpg_store_id\n",
    "air_store_id\n",
    "air_visit_data.csv\n",
    "This file contains historical visit data for the air restaurants.\n",
    "\n",
    "air_store_id\n",
    "visit_date - the date\n",
    "visitors - the number of visitors to the restaurant on the date\n",
    "sample_submission.csv\n",
    "This file shows a submission in the correct format, including the days for which you must forecast.\n",
    "\n",
    "id - the id is formed by concatenating the air_store_id and visit_date with an underscore\n",
    "visitors- the number of visitors forecasted for the store and date combination\n",
    "date_info.csv\n",
    "This file gives basic information about the calendar dates in the dataset.\n",
    "\n",
    "calendar_date\n",
    "day_of_week\n",
    "holiday_flg - is the day a holiday in Japan"
   ]
  },
  {
   "cell_type": "code",
   "execution_count": null,
   "metadata": {},
   "outputs": [],
   "source": []
  }
 ],
 "metadata": {
  "kernelspec": {
   "display_name": "Python 3",
   "language": "python",
   "name": "python3"
  },
  "language_info": {
   "codemirror_mode": {
    "name": "ipython",
    "version": 3
   },
   "file_extension": ".py",
   "mimetype": "text/x-python",
   "name": "python",
   "nbconvert_exporter": "python",
   "pygments_lexer": "ipython3",
   "version": "3.6.3"
  }
 },
 "nbformat": 4,
 "nbformat_minor": 2
}
