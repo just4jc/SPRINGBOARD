{
 "cells": [
  {
   "cell_type": "markdown",
   "metadata": {},
   "source": [
    "# Recruit Restaurant Visitor Forecasting  [Kaggle Competition](https://www.kaggle.com/c/recruit-restaurant-visitor-forecasting)\n",
    "### Predict how many future visitors a restaurant will receive "
   ]
  },
  {
   "cell_type": "markdown",
   "metadata": {},
   "source": [
    "### OVERVIEW\n",
    "This Capstone Project aims at coming up with a model to forecast the number of visitors to a restaturant on future date.\n",
    "Accurate forecasting is possible using the restaurant's past reservation, visiting data, geographical location,\n",
    "kind of day(whether it is a weekend/holiday), Genre of food being offered and supplementary weather data in Japan.\n",
    "The model is provided with restaurant id and\n",
    "Dates from the \"golden week\"(holiday week in Japan that covers the last week of April and May of 2017) for prediction of number of visitors. "
   ]
  },
  {
   "cell_type": "markdown",
   "metadata": {},
   "source": [
    "### The Client\n",
    "The Client here is Recruit Holdings who wants to automate the process of number of visitors a restaurant can expect in future date.\n",
    "The process of predicting the number of visitors to a restaurant isn't a simple one. It is dependent on so many factors like local restaurants competition,\n",
    "weather of the place where the restataurant is located.\n",
    "\n",
    "Recruit Holdings has unique access to the datasets that could make this forecast possible. Recruit Holdings owns  Hot Pepper Gourmet (a restaurant review service), AirREGI (a restaurant point of sales service), and Restaurant Board (reservation log management software).\n",
    "From these sources the past reservation data, visitor count, geographical information of the restaurants are made available.\n",
    "\n",
    "This would serve the following purposes for the client.\n",
    "   1. How many customers are expected to visit the restaurant in the golden week season in Japan.\n",
    "   2. Effective Cost Management in purchasing ingredients, Scheduling staff by knowing by the number of visiotrs.\n",
    "   3. Minimize the loss involved with Inventory.\n",
    "   4. What's the most favorite genre of food that people are eating.Knowing the taste of customers much better.\n",
    "\n",
    "Knowing these things by the forecast model in advance the restauant can focus more in giving better quality of food and service to the customers visited.\n",
    "Additionally, factors that lead to the success of a  restaurant can be understood much better and could be guiding principles for new\n",
    "restaurants."
   ]
  },
  {
   "cell_type": "markdown",
   "metadata": {},
   "source": [
    "### Dataset\n",
    "As part of the kaggle competition, Recruit Holdinigs has provided access to the data(in csv format) which comes from two different sources it owns AirREGI(a restaurant point of sales service), Restaurant Board (reservation log management software) and Hot Pepper Gourmet( (a restaurant review service).\n",
    "\n",
    "    In the competition, date restrictions were given for train and test set.\n",
    "    The training data covers the dates from 2016 until April 2017. \n",
    "    The test set covers the last week of April and  May of 2017 and covers a chosen subset of the air restaurants and \n",
    "    intentionally spans a holiday week in Japan called the \"Golden Week.\"\n",
    "\n",
    "    Adding external weather data for each date (like air humidity, temperature, snowfall, local pressure, wind speed, etc.,) can be helpful for accurate forecasting.\n",
    "    I found the following weather data to be useful which is extracted from Japan Meteorological Agency\n",
    "    (http://www.data.jma.go.jp/gmd/risk/obsdl/index.php#)\n",
    "                \n",
    "\n"
   ]
  },
  {
   "cell_type": "markdown",
   "metadata": {},
   "source": [
    "### Approach\n",
    "The approach to solving may subject to change in future applying much better concepts and techniques. Now the broad overview in solving this \n",
    "is explained below\n",
    "\n",
    "#### Data Wrangling\n",
    "    The first and foremost step is to load the given datasets and clean them using pandas dataframes. As the data is in \n",
    "    different files, need to perform merge/ Join operations to present meaningful data for further analysis in prediction.\n",
    "\n",
    "#### Data Visualization\n",
    "    Having cleaned data, visualizations are created to come up with preliminary hypothesis. \n",
    "    These visualizations are pretty much helpful for Data Storytelling.\n",
    "\n",
    "#### Machine Learning\n",
    "    After getting the meaningful data for analysis, the final step woulde be building a Machine Learning model \n",
    "    to predict the visitor count for a restaurant on a future date."
   ]
  },
  {
   "cell_type": "code",
   "execution_count": null,
   "metadata": {},
   "outputs": [],
   "source": []
  }
 ],
 "metadata": {
  "kernelspec": {
   "display_name": "Python 3",
   "language": "python",
   "name": "python3"
  },
  "language_info": {
   "codemirror_mode": {
    "name": "ipython",
    "version": 3
   },
   "file_extension": ".py",
   "mimetype": "text/x-python",
   "name": "python",
   "nbconvert_exporter": "python",
   "pygments_lexer": "ipython3",
   "version": "3.6.3"
  }
 },
 "nbformat": 4,
 "nbformat_minor": 2
}
