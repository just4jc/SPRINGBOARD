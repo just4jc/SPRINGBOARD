{
 "cells": [
  {
   "cell_type": "markdown",
   "metadata": {},
   "source": [
    "# What is the True Normal Human Body Temperature? \n",
    "\n",
    "#### Background\n",
    "\n",
    "The mean normal body temperature was held to be 37$^{\\circ}$C or 98.6$^{\\circ}$F for more than 120 years since it was first conceptualized and reported by Carl Wunderlich in a famous 1868 book. But, is this value statistically correct?"
   ]
  },
  {
   "cell_type": "markdown",
   "metadata": {},
   "source": [
    "<h3>Exercises</h3>\n",
    "\n",
    "<p>In this exercise, you will analyze a dataset of human body temperatures and employ the concepts of hypothesis testing, confidence intervals, and statistical significance.</p>\n",
    "\n",
    "<p>Answer the following questions <b>in this notebook below and submit to your Github account</b>.</p> \n",
    "\n",
    "<ol>\n",
    "<li>  Is the distribution of body temperatures normal? \n",
    "    <ul>\n",
    "    <li> Although this is not a requirement for CLT to hold (read CLT carefully), it gives us some peace of mind that the population may also be normally distributed if we assume that this sample is representative of the population.\n",
    "    </ul>\n",
    "<li>  Is the sample size large? Are the observations independent?\n",
    "    <ul>\n",
    "    <li> Remember that this is a condition for the CLT, and hence the statistical tests we are using, to apply.\n",
    "    </ul>\n",
    "<li>  Is the true population mean really 98.6 degrees F?\n",
    "    <ul>\n",
    "    <li> Would you use a one-sample or two-sample test? Why?\n",
    "    <li> In this situation, is it appropriate to use the $t$ or $z$ statistic? \n",
    "    <li> Now try using the other test. How is the result be different? Why?\n",
    "    </ul>\n",
    "<li>  Draw a small sample of size 10 from the data and repeat both tests. \n",
    "    <ul>\n",
    "    <li> Which one is the correct one to use? \n",
    "    <li> What do you notice? What does this tell you about the difference in application of the $t$ and $z$ statistic?\n",
    "    </ul>\n",
    "<li>  At what temperature should we consider someone's temperature to be \"abnormal\"?\n",
    "    <ul>\n",
    "    <li> Start by computing the margin of error and confidence interval.\n",
    "    </ul>\n",
    "<li>  Is there a significant difference between males and females in normal temperature?\n",
    "    <ul>\n",
    "    <li> What test did you use and why?\n",
    "    <li> Write a story with your conclusion in the context of the original problem.\n",
    "    </ul>\n",
    "</ol>\n",
    "\n",
    "You can include written notes in notebook cells using Markdown: \n",
    "   - In the control panel at the top, choose Cell > Cell Type > Markdown\n",
    "   - Markdown syntax: http://nestacms.com/docs/creating-content/markdown-cheat-sheet\n",
    "\n",
    "#### Resources\n",
    "\n",
    "+ Information and data sources: http://www.amstat.org/publications/jse/datasets/normtemp.txt, http://www.amstat.org/publications/jse/jse_data_archive.htm\n",
    "+ Markdown syntax: http://nestacms.com/docs/creating-content/markdown-cheat-sheet\n",
    "\n",
    "****"
   ]
  },
  {
   "cell_type": "code",
   "execution_count": 1,
   "metadata": {},
   "outputs": [],
   "source": [
    "%matplotlib inline\n",
    "import pandas as pd\n",
    "import matplotlib.pyplot as plt\n",
    "import seaborn as sns\n",
    "from scipy import stats\n",
    "import numpy as np\n",
    "df = pd.read_csv('data/human_body_temperature.csv')"
   ]
  },
  {
   "cell_type": "code",
   "execution_count": 2,
   "metadata": {},
   "outputs": [
    {
     "data": {
      "text/html": [
       "<div>\n",
       "<style>\n",
       "    .dataframe thead tr:only-child th {\n",
       "        text-align: right;\n",
       "    }\n",
       "\n",
       "    .dataframe thead th {\n",
       "        text-align: left;\n",
       "    }\n",
       "\n",
       "    .dataframe tbody tr th {\n",
       "        vertical-align: top;\n",
       "    }\n",
       "</style>\n",
       "<table border=\"1\" class=\"dataframe\">\n",
       "  <thead>\n",
       "    <tr style=\"text-align: right;\">\n",
       "      <th></th>\n",
       "      <th>temperature</th>\n",
       "      <th>gender</th>\n",
       "      <th>heart_rate</th>\n",
       "    </tr>\n",
       "  </thead>\n",
       "  <tbody>\n",
       "    <tr>\n",
       "      <th>0</th>\n",
       "      <td>99.3</td>\n",
       "      <td>F</td>\n",
       "      <td>68.0</td>\n",
       "    </tr>\n",
       "    <tr>\n",
       "      <th>1</th>\n",
       "      <td>98.4</td>\n",
       "      <td>F</td>\n",
       "      <td>81.0</td>\n",
       "    </tr>\n",
       "    <tr>\n",
       "      <th>2</th>\n",
       "      <td>97.8</td>\n",
       "      <td>M</td>\n",
       "      <td>73.0</td>\n",
       "    </tr>\n",
       "    <tr>\n",
       "      <th>3</th>\n",
       "      <td>99.2</td>\n",
       "      <td>F</td>\n",
       "      <td>66.0</td>\n",
       "    </tr>\n",
       "    <tr>\n",
       "      <th>4</th>\n",
       "      <td>98.0</td>\n",
       "      <td>F</td>\n",
       "      <td>73.0</td>\n",
       "    </tr>\n",
       "  </tbody>\n",
       "</table>\n",
       "</div>"
      ],
      "text/plain": [
       "   temperature gender  heart_rate\n",
       "0         99.3      F        68.0\n",
       "1         98.4      F        81.0\n",
       "2         97.8      M        73.0\n",
       "3         99.2      F        66.0\n",
       "4         98.0      F        73.0"
      ]
     },
     "execution_count": 2,
     "metadata": {},
     "output_type": "execute_result"
    }
   ],
   "source": [
    "# Your work here.\n",
    "df.head()"
   ]
  },
  {
   "cell_type": "markdown",
   "metadata": {},
   "source": [
    "### Check whether the tempearture data follows Normal Distribution"
   ]
  },
  {
   "cell_type": "code",
   "execution_count": 3,
   "metadata": {},
   "outputs": [
    {
     "data": {
      "text/plain": [
       "<matplotlib.axes._subplots.AxesSubplot at 0x1d8f97b4588>"
      ]
     },
     "execution_count": 3,
     "metadata": {},
     "output_type": "execute_result"
    },
    {
     "data": {
      "image/png": "[encoded data removed]",
      "text/plain": [
       "<matplotlib.figure.Figure at 0x1d8f9736f98>"
      ]
     },
     "metadata": {},
     "output_type": "display_data"
    }
   ],
   "source": [
    "df_temp = df['temperature']\n",
    "sns.distplot(df_temp)"
   ]
  },
  {
   "cell_type": "markdown",
   "metadata": {},
   "source": [
    "From the plot above the temperature distribution seems to be normal as the tails are short, and exponential decreases can be observed in both ways.\n",
    "To confirm further, let's use \"stats.normaltest\" to test whether it is normal distribution or not.\n",
    "Null Hypothesis : Distribution is Normal\n",
    "Alternative Hypothesis : Distribution isn't Normal"
   ]
  },
  {
   "cell_type": "code",
   "execution_count": 5,
   "metadata": {},
   "outputs": [
    {
     "data": {
      "text/plain": [
       "NormaltestResult(statistic=2.7038014333192031, pvalue=0.2587479863488254)"
      ]
     },
     "execution_count": 5,
     "metadata": {},
     "output_type": "execute_result"
    }
   ],
   "source": [
    "stats.normaltest(df_temp)"
   ]
  },
  {
   "cell_type": "markdown",
   "metadata": {},
   "source": [
    "#### Conclusions :"
   ]
  },
  {
   "cell_type": "markdown",
   "metadata": {},
   "source": [
    "From the plot, the distribution is having bell shape with short tails and exponential decrease as moving away from the mean\n",
    "value. To add solid evidence further, observing the p-value calculated using stats.normaltest is 0.258(approx) which is \n",
    "greater than 0.05 and this gives strong evidence to accept the Null Hypothesis(Distribution is Normal) that the temperature data distribution is Normal and the sample exactly represents the population."
   ]
  },
  {
   "cell_type": "markdown",
   "metadata": {},
   "source": [
    "#### Is the sample size large & Observations are Independent?"
   ]
  },
  {
   "cell_type": "code",
   "execution_count": 6,
   "metadata": {},
   "outputs": [
    {
     "data": {
      "text/plain": [
       "130"
      ]
     },
     "execution_count": 6,
     "metadata": {},
     "output_type": "execute_result"
    }
   ],
   "source": [
    "len(df_temp)"
   ]
  },
  {
   "cell_type": "markdown",
   "metadata": {},
   "source": [
    "The number of samples to satisfy the Central Limit Theorem have to be greater than 30, we have samples of 130 which are greater than 30. So the Observations are independent & the size of sample is large."
   ]
  },
  {
   "cell_type": "markdown",
   "metadata": {},
   "source": [
    "#### Is the true population mean really 98.6 degrees F? "
   ]
  },
  {
   "cell_type": "code",
   "execution_count": 40,
   "metadata": {},
   "outputs": [
    {
     "name": "stdout",
     "output_type": "stream",
     "text": [
      "Population's Mean :  98.6\n",
      "Sample Mean :  98.24923076923078\n",
      "Sample Std :  0.7331831580389454\n",
      "Sample_Size :  130\n",
      "Standard Error :  0.0643044168379\n"
     ]
    }
   ],
   "source": [
    "population_mean_mu = 98.6\n",
    "sample_std = df_temp.std()\n",
    "sample_mean = df_temp.mean()\n",
    "n = len(df_temp) #sample size\n",
    "SE = sample_std/np.sqrt(n)\n",
    "print(\"Population's Mean : \",population_mean_mu)\n",
    "print('Sample Mean : ',sample_mean)\n",
    "print('Sample Std : ',sample_std)\n",
    "print(\"Sample_Size : \",n)\n",
    "print(\"Standard Error : \",SE)"
   ]
  },
  {
   "cell_type": "markdown",
   "metadata": {},
   "source": [
    "#### Form Hypothesis"
   ]
  },
  {
   "cell_type": "markdown",
   "metadata": {},
   "source": [
    "#### First Let's try with One-Sided Test\n",
    "\n",
    "Null Hypothesis : $H_{0}$ ==> True population mean = 98.6\n",
    "    \n",
    "Alternative Hypothesis : $H_{A}$ ==> True population mean != 98.6\n",
    "    \n",
    "alpha = 0.05 => Significance level"
   ]
  },
  {
   "cell_type": "markdown",
   "metadata": {},
   "source": [
    "X ~ N(mean = 98.6, SE=0.064)"
   ]
  },
  {
   "cell_type": "code",
   "execution_count": 43,
   "metadata": {},
   "outputs": [
    {
     "name": "stdout",
     "output_type": "stream",
     "text": [
      "Zscore :  5.45482315261\n"
     ]
    }
   ],
   "source": [
    "Zscore = np.float32(population_mean_mu - sample_mean)/SE\n",
    "print(\"Zscore : \", Zscore)"
   ]
  },
  {
   "cell_type": "markdown",
   "metadata": {},
   "source": [
    "As the sample size is 130 which is greater than 30, satisfying the condition of Central Limit Theorem, we can use z-score as test statistic."
   ]
  },
  {
   "cell_type": "markdown",
   "metadata": {},
   "source": [
    "#### Find P_Value"
   ]
  },
  {
   "cell_type": "code",
   "execution_count": 44,
   "metadata": {},
   "outputs": [
    {
     "name": "stdout",
     "output_type": "stream",
     "text": [
      "P_value :  4.90216087723e-08\n"
     ]
    }
   ],
   "source": [
    "from scipy import stats\n",
    "P_value = (1 - stats.norm.cdf(abs(Zscore))) * 2\n",
    "print(\"P_value : \",P_value)"
   ]
  },
  {
   "cell_type": "markdown",
   "metadata": {},
   "source": [
    "Assumed significance level for P-Value to be 0.05. As the P-Value is less than 0.05, this provides strong evidence against \n",
    "Null Hypothesis $H_0$. So, the true Population Mean is not 98.6."
   ]
  },
  {
   "cell_type": "code",
   "execution_count": null,
   "metadata": {},
   "outputs": [],
   "source": []
  },
  {
   "cell_type": "code",
   "execution_count": null,
   "metadata": {},
   "outputs": [],
   "source": []
  },
  {
   "cell_type": "code",
   "execution_count": null,
   "metadata": {},
   "outputs": [],
   "source": []
  },
  {
   "cell_type": "markdown",
   "metadata": {},
   "source": [
    "### What is the Abnormal Temperature ?\n",
    "#### Calculate Margin Error & Confidence Interval to find Abnormal Temperature"
   ]
  },
  {
   "cell_type": "markdown",
   "metadata": {},
   "source": [
    "##### Margin Error"
   ]
  },
  {
   "cell_type": "code",
   "execution_count": 90,
   "metadata": {},
   "outputs": [
    {
     "name": "stdout",
     "output_type": "stream",
     "text": [
      "Margin Error :  0.105771353265\n"
     ]
    }
   ],
   "source": [
    "zScore = stats.norm.ppf(0.95)\n",
    "Margin_Error = (zScore) * SE\n",
    "print(\"Margin Error : \", Margin_Error)"
   ]
  },
  {
   "cell_type": "code",
   "execution_count": 91,
   "metadata": {},
   "outputs": [
    {
     "name": "stdout",
     "output_type": "stream",
     "text": [
      "Confidence Interval : (98.14345941596598,98.35500212249558)\n"
     ]
    }
   ],
   "source": [
    "# Confidence Interval\n",
    "lower_limit = sample_mean - Margin_Error\n",
    "upper_limit = sample_mean + Margin_Error\n",
    "print(\"Confidence Interval : ({0},{1})\".format(lower_limit,upper_limit))"
   ]
  },
  {
   "cell_type": "markdown",
   "metadata": {},
   "source": [
    "#### Temperatures that fall below 98.14 and above the 98.35 of the Confidence Interval are considered to be abnormal"
   ]
  },
  {
   "cell_type": "markdown",
   "metadata": {},
   "source": [
    "### Is there any significant difference between Normal Temperature of male and female"
   ]
  },
  {
   "cell_type": "code",
   "execution_count": 52,
   "metadata": {},
   "outputs": [],
   "source": [
    "df_male_temp = df[df['gender'] == 'M']['temperature']\n",
    "df_female_temp = df[df['gender'] == 'F']['temperature']"
   ]
  },
  {
   "cell_type": "code",
   "execution_count": 53,
   "metadata": {},
   "outputs": [
    {
     "data": {
      "text/plain": [
       "2     97.8\n",
       "5     99.2\n",
       "6     98.0\n",
       "7     98.8\n",
       "12    98.2\n",
       "Name: temperature, dtype: float64"
      ]
     },
     "execution_count": 53,
     "metadata": {},
     "output_type": "execute_result"
    }
   ],
   "source": [
    "df_male_temp.head()"
   ]
  },
  {
   "cell_type": "code",
   "execution_count": 54,
   "metadata": {},
   "outputs": [
    {
     "data": {
      "text/plain": [
       "0    99.3\n",
       "1    98.4\n",
       "3    99.2\n",
       "4    98.0\n",
       "8    98.4\n",
       "Name: temperature, dtype: float64"
      ]
     },
     "execution_count": 54,
     "metadata": {},
     "output_type": "execute_result"
    }
   ],
   "source": [
    "df_female_temp.head()"
   ]
  },
  {
   "cell_type": "code",
   "execution_count": 55,
   "metadata": {},
   "outputs": [
    {
     "name": "stdout",
     "output_type": "stream",
     "text": [
      "Male Normal Mean Temperature 98.1046153846154\n",
      "Female Normal Mean Temperature 98.39384615384613\n"
     ]
    }
   ],
   "source": [
    "male_mean_temp = df_male_temp.mean()\n",
    "female_mean_temp = df_female_temp.mean()\n",
    "print(\"Male Normal Mean Temperature\", male_mean_temp)\n",
    "print(\"Female Normal Mean Temperature\", female_mean_temp)"
   ]
  },
  {
   "cell_type": "code",
   "execution_count": 58,
   "metadata": {},
   "outputs": [
    {
     "name": "stdout",
     "output_type": "stream",
     "text": [
      "Difference between male and female temperatures :  0.289230769230727\n"
     ]
    }
   ],
   "source": [
    "actual_mean_temp_diff = female_mean_temp - male_mean_temp\n",
    "print(\"Difference between male and female temperatures : \", actual_mean_temp_diff)"
   ]
  },
  {
   "cell_type": "markdown",
   "metadata": {},
   "source": [
    "#### For  this will try the sampling method as the we want to check the difference of means."
   ]
  },
  {
   "cell_type": "code",
   "execution_count": 73,
   "metadata": {},
   "outputs": [
    {
     "data": {
      "text/plain": [
       "<matplotlib.axes._subplots.AxesSubplot at 0x1d8fcdd3ef0>"
      ]
     },
     "execution_count": 73,
     "metadata": {},
     "output_type": "execute_result"
    },
    {
     "data": {
      "image/png": "[encoded data removed]",
      "text/plain": [
       "<matplotlib.figure.Figure at 0x1d8fcd51e80>"
      ]
     },
     "metadata": {},
     "output_type": "display_data"
    }
   ],
   "source": [
    "import seaborn as sns\n",
    "mean_diff_samples = []\n",
    "for i in range(1000):\n",
    "    male_sample = df_male_temp.sample(frac=0.1)\n",
    "    female_sample = df_female_temp.sample(frac=0.1)\n",
    "    mean_sample_diff = (female_sample.mean() - male_sample.mean())\n",
    "    mean_diff_samples.append(mean_sample_diff)\n",
    "sns.distplot(mean_diff_samples)"
   ]
  },
  {
   "cell_type": "markdown",
   "metadata": {},
   "source": [
    "#### From the plot above of sampled mean differences, it turns out to be normal distribution. \n"
   ]
  },
  {
   "cell_type": "markdown",
   "metadata": {},
   "source": [
    "### Using Two-Sample Test"
   ]
  },
  {
   "cell_type": "markdown",
   "metadata": {},
   "source": [
    "#### Null Hypothesis : $H_{0}$ : There is no significant difference between in normal temperatures of male & female(mean_diff_mu = 0)\n",
    "#### Alternative Hypothesis : $H_{A}$ : There is a significant difference (mean_diff_mu  !=  0)\n",
    "\n",
    "##### alpha = 0.05\n",
    "\n",
    "##### Using Two-Sample test as we are comparing the means of two different groups\n",
    "\n",
    "Lets assume mean_diff = 0 in null hypothesis and to be be true and check whether this will satisfy to accept null hypothesis"
   ]
  },
  {
   "cell_type": "code",
   "execution_count": 86,
   "metadata": {},
   "outputs": [
    {
     "name": "stdout",
     "output_type": "stream",
     "text": [
      "Actual Mean Diff :  0.289230769230727\n",
      "Standard Error Diff :  0.0055483205575\n"
     ]
    }
   ],
   "source": [
    "mean_diff_mu = 0\n",
    "print(\"Actual Mean Diff : \",actual_mean_temp_diff)\n",
    "SE_diff = (df_female_temp.std() - df_male_temp.std()) / np.sqrt(len(df_female_temp))\n",
    "print(\"Standard Error Diff : \",SE_diff)"
   ]
  },
  {
   "cell_type": "code",
   "execution_count": 87,
   "metadata": {},
   "outputs": [
    {
     "name": "stdout",
     "output_type": "stream",
     "text": [
      "Zscore :  52.1294265955\n"
     ]
    }
   ],
   "source": [
    "Zscore = (actual_mean_temp_diff - mean_diff_mu) / SE_diff\n",
    "print(\"Zscore : \",Zscore)"
   ]
  },
  {
   "cell_type": "code",
   "execution_count": 88,
   "metadata": {},
   "outputs": [
    {
     "name": "stdout",
     "output_type": "stream",
     "text": [
      "p_Value :  0.0\n"
     ]
    }
   ],
   "source": [
    "p_Value = (1 - stats.norm.cdf(abs(Zscore))) * 2\n",
    "print(\"p_Value : \",p_Value)"
   ]
  },
  {
   "cell_type": "markdown",
   "metadata": {},
   "source": [
    "#### As p_Value is < 0.05, this provides strong evidence against Null Hypothesis and we reject the Null Hypothesis.\n",
    "\n",
    "##### So there is a significant difference between normal tempereatures of male and female"
   ]
  },
  {
   "cell_type": "markdown",
   "metadata": {},
   "source": [
    "### Conclusions"
   ]
  },
  {
   "cell_type": "markdown",
   "metadata": {},
   "source": [
    "1.) The sample distribution of temperatures follow normal distribution\n",
    "\n",
    "2.)The samples are independent satisfying the Central Limit Theorem.\n",
    "\n",
    "3.) By using one-sided test & Z-score the null hypothesis(that true mean population temperature is 98.6) is rejected\n",
    "\n",
    "4.)Temperatures that fall below 98.14 and above the 98.35 of the Confidence Interval are considered to be abnormal and this is known by using Confidence Intervals and Margin Error.\n",
    "\n",
    "5.)By using Two sided test & Zscore, it is known that normal temperatures of male and female are significantly different.\n"
   ]
  },
  {
   "cell_type": "code",
   "execution_count": null,
   "metadata": {},
   "outputs": [],
   "source": []
  }
 ],
 "metadata": {
  "kernelspec": {
   "display_name": "Python 3",
   "language": "python",
   "name": "python3"
  },
  "language_info": {
   "codemirror_mode": {
    "name": "ipython",
    "version": 3
   },
   "file_extension": ".py",
   "mimetype": "text/x-python",
   "name": "python",
   "nbconvert_exporter": "python",
   "pygments_lexer": "ipython3",
   "version": "3.6.3"
  }
 },
 "nbformat": 4,
 "nbformat_minor": 1
}
