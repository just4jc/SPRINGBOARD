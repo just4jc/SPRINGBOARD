{
 "cells": [
  {
   "cell_type": "markdown",
   "metadata": {},
   "source": [
    "### Applying Inferential statistics \n",
    "<img src='http://www.statisticaldataanalysis.net/wp-content/uploads/2015/03/inferential-statistical-analysis-300x180.jpg'>\n",
    "#### To check which is the most ordered food type in all restaurants\n"
   ]
  },
  {
   "cell_type": "code",
   "execution_count": 2,
   "metadata": {},
   "outputs": [],
   "source": [
    "%matplotlib inline\n",
    "import matplotlib.pyplot as plt\n",
    "import seaborn as sns\n",
    "import pandas as pd\n",
    "import numpy as np\n",
    "from scipy import stats"
   ]
  },
  {
   "cell_type": "code",
   "execution_count": 3,
   "metadata": {},
   "outputs": [
    {
     "data": {
      "text/html": [
       "<div>\n",
       "<style>\n",
       "    .dataframe thead tr:only-child th {\n",
       "        text-align: right;\n",
       "    }\n",
       "\n",
       "    .dataframe thead th {\n",
       "        text-align: left;\n",
       "    }\n",
       "\n",
       "    .dataframe tbody tr th {\n",
       "        vertical-align: top;\n",
       "    }\n",
       "</style>\n",
       "<table border=\"1\" class=\"dataframe\">\n",
       "  <thead>\n",
       "    <tr style=\"text-align: right;\">\n",
       "      <th></th>\n",
       "      <th>air_genre_name</th>\n",
       "      <th>visitors</th>\n",
       "    </tr>\n",
       "  </thead>\n",
       "  <tbody>\n",
       "    <tr>\n",
       "      <th>0</th>\n",
       "      <td>Dining bar</td>\n",
       "      <td>25</td>\n",
       "    </tr>\n",
       "    <tr>\n",
       "      <th>1</th>\n",
       "      <td>Dining bar</td>\n",
       "      <td>32</td>\n",
       "    </tr>\n",
       "  </tbody>\n",
       "</table>\n",
       "</div>"
      ],
      "text/plain": [
       "  air_genre_name  visitors\n",
       "0     Dining bar        25\n",
       "1     Dining bar        32"
      ]
     },
     "execution_count": 3,
     "metadata": {},
     "output_type": "execute_result"
    }
   ],
   "source": [
    "data = pd.read_csv('.//Data//Train_data.csv')\n",
    "data[['air_genre_name','visitors']].head(2)"
   ]
  },
  {
   "cell_type": "code",
   "execution_count": 4,
   "metadata": {},
   "outputs": [
    {
     "name": "stdout",
     "output_type": "stream",
     "text": [
      "Unique genre/food type in restaturants :\n"
     ]
    },
    {
     "data": {
      "text/plain": [
       "array(['Dining bar', 'Izakaya', 'Cafe/Sweets', '-1', 'Bar/Cocktail',\n",
       "       'Italian/French', 'Okonomiyaki/Monja/Teppanyaki', 'Other',\n",
       "       'International cuisine', 'Japanese food', 'Yakiniku/Korean food',\n",
       "       'Karaoke/Party', 'Western food', 'Creative cuisine', 'Asian'], dtype=object)"
      ]
     },
     "execution_count": 4,
     "metadata": {},
     "output_type": "execute_result"
    }
   ],
   "source": [
    "print(\"Unique genre/food type in restaturants :\")\n",
    "data[data['air_genre_name'] != -1]['air_genre_name'].unique()"
   ]
  },
  {
   "cell_type": "markdown",
   "metadata": {},
   "source": [
    "### 1.) Analyzing visitor's most favorite food. Is it Izakaya or other ?\n",
    "##### From the EDA analysis,it has been shown that most of the visitors are ordering 'Izakaya' food than the others\n",
    "[Check_Here](https://github.com/nishalpattan/SPRINGBOARD/blob/master/Capstone_Project/Data_StoryTelling_EDA.ipynb)"
   ]
  },
  {
   "cell_type": "markdown",
   "metadata": {},
   "source": [
    "#### Forming Hypothesis\n",
    "#### Null Hypothesis : $H_{0}$ : Average number of visitors ordering Izakaya food is equal to average number of visitors ordering Other food types $\\mu_{1}$ = $\\mu_{2}$ <br> Alternante Hypothesis : $H_{A}$ :  Average number of visitors ordering Izakaya food is greater than the average number of visitors ordering Other food types$\\mu_{1}$ !=  $\\mu_{2}$ <br> The threshold value of $\\alpha$ is assumed to be 0.05. Assuming Null Hypothesis is true."
   ]
  },
  {
   "cell_type": "code",
   "execution_count": 5,
   "metadata": {},
   "outputs": [],
   "source": [
    "df_izakaya = data[data['air_genre_name'] == 'Izakaya']['visitors']\n",
    "df_other = data[data['air_genre_name'] != 'Izakaya']['visitors']"
   ]
  },
  {
   "cell_type": "code",
   "execution_count": 6,
   "metadata": {},
   "outputs": [
    {
     "name": "stdout",
     "output_type": "stream",
     "text": [
      "Number of samples in df_izakaya :  (61764,)\n",
      "Number of samples in df_other :  (190344,)\n",
      "Mean visitor count ordering Izakaya :  23.083624765235413\n",
      "Mean visitor count ordering other than Izakaya :  20.289139662926072\n",
      "Standard deviation in Izakaya data:  17.020993369246032\n",
      "Standard deviation in other than Izakaya data:  16.613013222366938\n",
      "Ratio of standard deviations :  0.9760307675334483\n"
     ]
    }
   ],
   "source": [
    "print(\"Number of samples in df_izakaya : \",df_izakaya.shape)\n",
    "print(\"Number of samples in df_other : \",df_other.shape)\n",
    "izakaya_mean_visitors = df_izakaya.mean()\n",
    "other_mean_visitors = df_other.mean()\n",
    "izakaya_std = df_izakaya.std()\n",
    "other_std = df_other.std()\n",
    "print(\"Mean visitor count ordering Izakaya : \",izakaya_mean_visitors)\n",
    "print(\"Mean visitor count ordering other than Izakaya : \",other_mean_visitors)\n",
    "print(\"Standard deviation in Izakaya data: \",izakaya_std)\n",
    "print(\"Standard deviation in other than Izakaya data: \",other_std)\n",
    "print(\"Ratio of standard deviations : \",other_std/izakaya_std)"
   ]
  },
  {
   "cell_type": "markdown",
   "metadata": {},
   "source": [
    "#### The standard deviation of both are nearly close/equal. this can be seen using the ratio between them which is ~ 0.97"
   ]
  },
  {
   "cell_type": "code",
   "execution_count": 7,
   "metadata": {},
   "outputs": [
    {
     "data": {
      "text/plain": [
       "<matplotlib.axes._subplots.AxesSubplot at 0x206ef55d048>"
      ]
     },
     "execution_count": 7,
     "metadata": {},
     "output_type": "execute_result"
    },
    {
     "data": {
      "image/png": "[encoded data removed]",
      "text/plain": [
       "<matplotlib.figure.Figure at 0x206ebc30048>"
      ]
     },
     "metadata": {},
     "output_type": "display_data"
    }
   ],
   "source": [
    "sns.distplot(np.log10(df_izakaya)) #taking log scale to get clear view of ditribution"
   ]
  },
  {
   "cell_type": "code",
   "execution_count": 8,
   "metadata": {},
   "outputs": [
    {
     "data": {
      "text/plain": [
       "<matplotlib.axes._subplots.AxesSubplot at 0x206f0290198>"
      ]
     },
     "execution_count": 8,
     "metadata": {},
     "output_type": "execute_result"
    },
    {
     "data": {
      "image/png": "[encoded data removed]",
      "text/plain": [
       "<matplotlib.figure.Figure at 0x206ebc300f0>"
      ]
     },
     "metadata": {},
     "output_type": "display_data"
    }
   ],
   "source": [
    "sns.distplot(np.log(df_other)) #taking log scale to get clear view of ditribution"
   ]
  },
  {
   "cell_type": "code",
   "execution_count": 9,
   "metadata": {},
   "outputs": [
    {
     "data": {
      "text/plain": [
       "(2.7944851023093413, 0.407980146879094)"
      ]
     },
     "execution_count": 9,
     "metadata": {},
     "output_type": "execute_result"
    }
   ],
   "source": [
    "h0_mean = 0 #from null hypothesis the mean would be 0\n",
    "mean_diff = izakaya_mean_visitors - other_mean_visitors\n",
    "sigma_diff = izakaya_std - other_std\n",
    "mean_diff, sigma_diff"
   ]
  },
  {
   "cell_type": "markdown",
   "metadata": {},
   "source": [
    "#### Using student's t-statistic(Pooled variances) as the variance of population is unknown\n",
    "#### First find the common standard deviation ($s_{p}$)that can be estimated by the pooled standard deviation"
   ]
  },
  {
   "cell_type": "code",
   "execution_count": 10,
   "metadata": {},
   "outputs": [
    {
     "name": "stdout",
     "output_type": "stream",
     "text": [
      "Degrees of Freedom :  128582\n",
      "Common Standard Deviation :  23.4033971111\n",
      "t-statistic :  25.7849851865\n"
     ]
    }
   ],
   "source": [
    "df = len(df_other) - len(df_izakaya)  + 2 #degree of freedom\n",
    "sp = np.sqrt( ( ( len(df_izakaya) - 1 ) * (izakaya_std ** 2 ) + ( len(df_other) - 1 ) * (other_std ** 2 ) ) / df ) # common standard deviation\n",
    "t = (mean_diff - h0_mean) / (sp * ( np.sqrt((1/len(df_izakaya))+(1/len(df_other)))) ) #t-statistic\n",
    "print(\"Degrees of Freedom : \",df)\n",
    "print(\"Common Standard Deviation : \",sp)\n",
    "print(\"t-statistic : \",t)"
   ]
  },
  {
   "cell_type": "code",
   "execution_count": 11,
   "metadata": {},
   "outputs": [
    {
     "name": "stdout",
     "output_type": "stream",
     "text": [
      "P-Value :  0.0\n"
     ]
    }
   ],
   "source": [
    "p_Val = 1 - stats.t.cdf(t,df=df)\n",
    "print(\"P-Value : \",p_Val)"
   ]
  },
  {
   "cell_type": "markdown",
   "metadata": {},
   "source": [
    "<b> From the p-value, it is evident that mean number of customers eating Izakaya food is statistically significant."
   ]
  },
  {
   "cell_type": "code",
   "execution_count": 12,
   "metadata": {},
   "outputs": [
    {
     "data": {
      "text/plain": [
       "1.0145574677365108e-284"
      ]
     },
     "execution_count": 12,
     "metadata": {},
     "output_type": "execute_result"
    }
   ],
   "source": [
    "t, p = stats.ttest_ind(df_izakaya,df_other) # cross-checking\n",
    "p "
   ]
  },
  {
   "cell_type": "code",
   "execution_count": null,
   "metadata": {},
   "outputs": [],
   "source": []
  }
 ],
 "metadata": {
  "kernelspec": {
   "display_name": "Python 3",
   "language": "python",
   "name": "python3"
  },
  "language_info": {
   "codemirror_mode": {
    "name": "ipython",
    "version": 3
   },
   "file_extension": ".py",
   "mimetype": "text/x-python",
   "name": "python",
   "nbconvert_exporter": "python",
   "pygments_lexer": "ipython3",
   "version": "3.6.3"
  }
 },
 "nbformat": 4,
 "nbformat_minor": 2
}
