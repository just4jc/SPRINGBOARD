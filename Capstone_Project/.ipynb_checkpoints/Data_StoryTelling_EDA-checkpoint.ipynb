{
 "cells": [
  {
   "cell_type": "raw",
   "metadata": {},
   "source": [
    "\"\"\"\n",
    "DataFrame LookUp table\n",
    "--------------------------------------------------------------------------------------------------\n",
    "      DATAFRAME      |   Description                                                              |\n",
    "++++++++++++++++++++ + +++++++++++++++++++++++++++++++++++++++++++++++++++++++++++++++++++++++++++\n",
    "df_air_visit_data    | This contains visiting data of customers in \n",
    "                     | air system; Total 829 unique restaurants are visited.\n",
    "                     | columns : air_store_id; visit_date; visitors\n",
    "++++++++++++++++++++ + ++++++++++++++++++++++++++++++++++++++++++++++++++++++++++++++++++++++++++++\n",
    "df_air_store_info    | This contains restaurants(stores) info\n",
    "                     | contained in air system;\n",
    "                     | columns : air_store_id; air_genre_name(type of food being served);\n",
    "                     |           air_area_name;latitude; longitude\n",
    "++++++++++++++++++++ + +++++++++++++++++++++++++++++++++++++++++++++++++++++++++++++++++++++++++++++\n",
    "df_hpg_store_info    | This contains restaurants(stores) info\n",
    "                     | contained in hpg system;\n",
    "                     | columns : hpg_store_id; hpg_genre_name(type of food being served);\n",
    "                     |           hpg_area_name;latitude; longitude\n",
    "++++++++++++++++++++ + ++++++++++++++++++++++++++++++++++++++++++++++++++++++++++++++++++++++++++++++\n",
    "df_air_reserve       | This contains visiting data of customers who have done reservation \n",
    "                     | air system;\n",
    "                     | columns : air_store_id; visit_datetime; reserve_datetime; reserve_visitors\n",
    "++++++++++++++++++++ + ++++++++++++++++++++++++++++++++++++++++++++++++++++++++++++++++++++++++++++++\n",
    "df_hpg_reserve       | This contains visiting data of customers who have done reservation \n",
    "                     | hpg system;\n",
    "                     | columns : hpg_store_id; visit_datetime; reserve_datetime; reserve_visitors\n",
    "++++++++++++++++++++ + ++++++++++++++++++++++++++++++++++++++++++++++++++++++++++++++++++++++++++++++\n",
    "df_store_id_realation| This dataframe contains mapping between air & hpg restaurants\n",
    "                     |  It can be potentially used to join/merge the remaining dataframes\n",
    "                     | columns : air_store_id; hpg_store_id\n",
    "++++++++++++++++++++ + ++++++++++++++++++++++++++++++++++++++++++++++++++++++++++++++++++++++++++++++\n",
    "df_date_info         |  It contains weekday and holiday information for a given calendar date\n",
    "                     | columns : air_store_id; hpg_store_id\n",
    "++++++++++++++++++++ + ++++++++++++++++++++++++++++++++++++++++++++++++++++++++++++++++++++++++++++++\n",
    "df_test_set          | This is a test data having air store ids and calendar date and blank colulmn\n",
    "                     |  to predict visitor count for each air_store_id\n",
    "                     | columns : id, visitors\n",
    "++++++++++++++++++++ + ++++++++++++++++++++++++++++++++++++++++++++++++++++++++++++++++++++++++++++++\n",
    "\n",
    "++++++++++++++++++++ + ++ + +++++++++++++++++++++++++++++++++++++++++++++++++++++++++++++++++++++++++\n",
    "                          |\n",
    "df_hpg_reserve_air_mapped | This is a inner join between df_hpg_reserve,df_store_id_realation\n",
    "                          |  to get only those hpg stores which are having air store id\n",
    "                          | Columns : visit_datetime; reserve_datetime; reserve_visitors; air_store_id\n",
    "                          |           visit_date; holiday_flg; day_of_week\n",
    "++++++++++++++++++++ + ++ + +++++++++++++++++++++++++++++++++++++++++++++++++++++++++++++++++++++++++++   \n",
    "df_hpg_reserve_air_total  | It contains total air & hpg reserve info, where hpg store id are mapped to\n",
    "                          |  their air store ids.\n",
    "                          |   It has information of 333 stores which are reserved to visit.\n",
    "                          | Columns : air_store_id; day_of_week; holiday_flg; reserve_datetime\n",
    "                                      reserve_visitors; visit_date; visit_datetime; time_diff\n",
    "++++++++++++++++++++ + ++++ + +++++++++++++++++++++++++++++++++++++++++++++++++++++++++++++++++++++++++\n",
    "df_air_hpg_total_store_info |  It contains total air & hpg store info, where hpg store id are mapped to\n",
    "                            |  their air store ids.\n",
    "                            |  It has information of 892 stores info.\n",
    "                            | Columns: air_area_name; air_genre_name; air_store_id; latitude; longitude\n",
    "++++++++++++++++++++ + ++++ + +++++++++++++++++++++++++++++++++++++++++++++++++++++++++++++++++++++++++\n",
    "df_air_visit_train          |  This contains the df_air_visit_data, where holiday flag, weather inforamtion\n",
    "                            |  is added along with.\n",
    "                            | Columns : air_store_id; air_area_name; air_genre_name; latitude; longitude;\n",
    "                            | visit_date; visitors; holiday_flg; day_of_week;\n",
    "                            \n",
    "\"\"\"\n"
   ]
  },
  {
   "cell_type": "code",
   "execution_count": 2,
   "metadata": {},
   "outputs": [
    {
     "ename": "FileNotFoundError",
     "evalue": "File b'.//air_visit_data.csv' does not exist",
     "output_type": "error",
     "traceback": [
      "\u001b[1;31m---------------------------------------------------------------------------\u001b[0m",
      "\u001b[1;31mFileNotFoundError\u001b[0m                         Traceback (most recent call last)",
      "\u001b[1;32m<ipython-input-2-69d7e326e4fd>\u001b[0m in \u001b[0;36m<module>\u001b[1;34m()\u001b[0m\n\u001b[0;32m      9\u001b[0m \u001b[0mplt\u001b[0m\u001b[1;33m.\u001b[0m\u001b[0mstyle\u001b[0m\u001b[1;33m.\u001b[0m\u001b[0muse\u001b[0m\u001b[1;33m(\u001b[0m\u001b[1;34m'fivethirtyeight'\u001b[0m\u001b[1;33m)\u001b[0m\u001b[1;33m\u001b[0m\u001b[0m\n\u001b[0;32m     10\u001b[0m \u001b[1;31m#Create  dataframes\u001b[0m\u001b[1;33m\u001b[0m\u001b[1;33m\u001b[0m\u001b[0m\n\u001b[1;32m---> 11\u001b[1;33m \u001b[0mdf_air_visit_data\u001b[0m \u001b[1;33m=\u001b[0m \u001b[0mpd\u001b[0m\u001b[1;33m.\u001b[0m\u001b[0mread_csv\u001b[0m\u001b[1;33m(\u001b[0m\u001b[1;34m'.//air_visit_data.csv'\u001b[0m\u001b[1;33m)\u001b[0m \u001b[1;31m#this is the training data\u001b[0m\u001b[1;33m\u001b[0m\u001b[0m\n\u001b[0m\u001b[0;32m     12\u001b[0m \u001b[0mdf_air_store_info\u001b[0m \u001b[1;33m=\u001b[0m \u001b[0mpd\u001b[0m\u001b[1;33m.\u001b[0m\u001b[0mread_csv\u001b[0m\u001b[1;33m(\u001b[0m\u001b[1;34m'.//air_store_info.csv'\u001b[0m\u001b[1;33m)\u001b[0m\u001b[1;33m\u001b[0m\u001b[0m\n\u001b[0;32m     13\u001b[0m \u001b[0mdf_hpg_store_info\u001b[0m \u001b[1;33m=\u001b[0m \u001b[0mpd\u001b[0m\u001b[1;33m.\u001b[0m\u001b[0mread_csv\u001b[0m\u001b[1;33m(\u001b[0m\u001b[1;34m'.//hpg_store_info.csv'\u001b[0m\u001b[1;33m)\u001b[0m\u001b[1;33m\u001b[0m\u001b[0m\n",
      "\u001b[1;32mC:\\Users\\nisha\\AppData\\Local\\Continuum\\anaconda3\\lib\\site-packages\\pandas\\io\\parsers.py\u001b[0m in \u001b[0;36mparser_f\u001b[1;34m(filepath_or_buffer, sep, delimiter, header, names, index_col, usecols, squeeze, prefix, mangle_dupe_cols, dtype, engine, converters, true_values, false_values, skipinitialspace, skiprows, nrows, na_values, keep_default_na, na_filter, verbose, skip_blank_lines, parse_dates, infer_datetime_format, keep_date_col, date_parser, dayfirst, iterator, chunksize, compression, thousands, decimal, lineterminator, quotechar, quoting, escapechar, comment, encoding, dialect, tupleize_cols, error_bad_lines, warn_bad_lines, skipfooter, skip_footer, doublequote, delim_whitespace, as_recarray, compact_ints, use_unsigned, low_memory, buffer_lines, memory_map, float_precision)\u001b[0m\n\u001b[0;32m    653\u001b[0m                     skip_blank_lines=skip_blank_lines)\n\u001b[0;32m    654\u001b[0m \u001b[1;33m\u001b[0m\u001b[0m\n\u001b[1;32m--> 655\u001b[1;33m         \u001b[1;32mreturn\u001b[0m \u001b[0m_read\u001b[0m\u001b[1;33m(\u001b[0m\u001b[0mfilepath_or_buffer\u001b[0m\u001b[1;33m,\u001b[0m \u001b[0mkwds\u001b[0m\u001b[1;33m)\u001b[0m\u001b[1;33m\u001b[0m\u001b[0m\n\u001b[0m\u001b[0;32m    656\u001b[0m \u001b[1;33m\u001b[0m\u001b[0m\n\u001b[0;32m    657\u001b[0m     \u001b[0mparser_f\u001b[0m\u001b[1;33m.\u001b[0m\u001b[0m__name__\u001b[0m \u001b[1;33m=\u001b[0m \u001b[0mname\u001b[0m\u001b[1;33m\u001b[0m\u001b[0m\n",
      "\u001b[1;32mC:\\Users\\nisha\\AppData\\Local\\Continuum\\anaconda3\\lib\\site-packages\\pandas\\io\\parsers.py\u001b[0m in \u001b[0;36m_read\u001b[1;34m(filepath_or_buffer, kwds)\u001b[0m\n\u001b[0;32m    403\u001b[0m \u001b[1;33m\u001b[0m\u001b[0m\n\u001b[0;32m    404\u001b[0m     \u001b[1;31m# Create the parser.\u001b[0m\u001b[1;33m\u001b[0m\u001b[1;33m\u001b[0m\u001b[0m\n\u001b[1;32m--> 405\u001b[1;33m     \u001b[0mparser\u001b[0m \u001b[1;33m=\u001b[0m \u001b[0mTextFileReader\u001b[0m\u001b[1;33m(\u001b[0m\u001b[0mfilepath_or_buffer\u001b[0m\u001b[1;33m,\u001b[0m \u001b[1;33m**\u001b[0m\u001b[0mkwds\u001b[0m\u001b[1;33m)\u001b[0m\u001b[1;33m\u001b[0m\u001b[0m\n\u001b[0m\u001b[0;32m    406\u001b[0m \u001b[1;33m\u001b[0m\u001b[0m\n\u001b[0;32m    407\u001b[0m     \u001b[1;32mif\u001b[0m \u001b[0mchunksize\u001b[0m \u001b[1;32mor\u001b[0m \u001b[0miterator\u001b[0m\u001b[1;33m:\u001b[0m\u001b[1;33m\u001b[0m\u001b[0m\n",
      "\u001b[1;32mC:\\Users\\nisha\\AppData\\Local\\Continuum\\anaconda3\\lib\\site-packages\\pandas\\io\\parsers.py\u001b[0m in \u001b[0;36m__init__\u001b[1;34m(self, f, engine, **kwds)\u001b[0m\n\u001b[0;32m    762\u001b[0m             \u001b[0mself\u001b[0m\u001b[1;33m.\u001b[0m\u001b[0moptions\u001b[0m\u001b[1;33m[\u001b[0m\u001b[1;34m'has_index_names'\u001b[0m\u001b[1;33m]\u001b[0m \u001b[1;33m=\u001b[0m \u001b[0mkwds\u001b[0m\u001b[1;33m[\u001b[0m\u001b[1;34m'has_index_names'\u001b[0m\u001b[1;33m]\u001b[0m\u001b[1;33m\u001b[0m\u001b[0m\n\u001b[0;32m    763\u001b[0m \u001b[1;33m\u001b[0m\u001b[0m\n\u001b[1;32m--> 764\u001b[1;33m         \u001b[0mself\u001b[0m\u001b[1;33m.\u001b[0m\u001b[0m_make_engine\u001b[0m\u001b[1;33m(\u001b[0m\u001b[0mself\u001b[0m\u001b[1;33m.\u001b[0m\u001b[0mengine\u001b[0m\u001b[1;33m)\u001b[0m\u001b[1;33m\u001b[0m\u001b[0m\n\u001b[0m\u001b[0;32m    765\u001b[0m \u001b[1;33m\u001b[0m\u001b[0m\n\u001b[0;32m    766\u001b[0m     \u001b[1;32mdef\u001b[0m \u001b[0mclose\u001b[0m\u001b[1;33m(\u001b[0m\u001b[0mself\u001b[0m\u001b[1;33m)\u001b[0m\u001b[1;33m:\u001b[0m\u001b[1;33m\u001b[0m\u001b[0m\n",
      "\u001b[1;32mC:\\Users\\nisha\\AppData\\Local\\Continuum\\anaconda3\\lib\\site-packages\\pandas\\io\\parsers.py\u001b[0m in \u001b[0;36m_make_engine\u001b[1;34m(self, engine)\u001b[0m\n\u001b[0;32m    983\u001b[0m     \u001b[1;32mdef\u001b[0m \u001b[0m_make_engine\u001b[0m\u001b[1;33m(\u001b[0m\u001b[0mself\u001b[0m\u001b[1;33m,\u001b[0m \u001b[0mengine\u001b[0m\u001b[1;33m=\u001b[0m\u001b[1;34m'c'\u001b[0m\u001b[1;33m)\u001b[0m\u001b[1;33m:\u001b[0m\u001b[1;33m\u001b[0m\u001b[0m\n\u001b[0;32m    984\u001b[0m         \u001b[1;32mif\u001b[0m \u001b[0mengine\u001b[0m \u001b[1;33m==\u001b[0m \u001b[1;34m'c'\u001b[0m\u001b[1;33m:\u001b[0m\u001b[1;33m\u001b[0m\u001b[0m\n\u001b[1;32m--> 985\u001b[1;33m             \u001b[0mself\u001b[0m\u001b[1;33m.\u001b[0m\u001b[0m_engine\u001b[0m \u001b[1;33m=\u001b[0m \u001b[0mCParserWrapper\u001b[0m\u001b[1;33m(\u001b[0m\u001b[0mself\u001b[0m\u001b[1;33m.\u001b[0m\u001b[0mf\u001b[0m\u001b[1;33m,\u001b[0m \u001b[1;33m**\u001b[0m\u001b[0mself\u001b[0m\u001b[1;33m.\u001b[0m\u001b[0moptions\u001b[0m\u001b[1;33m)\u001b[0m\u001b[1;33m\u001b[0m\u001b[0m\n\u001b[0m\u001b[0;32m    986\u001b[0m         \u001b[1;32melse\u001b[0m\u001b[1;33m:\u001b[0m\u001b[1;33m\u001b[0m\u001b[0m\n\u001b[0;32m    987\u001b[0m             \u001b[1;32mif\u001b[0m \u001b[0mengine\u001b[0m \u001b[1;33m==\u001b[0m \u001b[1;34m'python'\u001b[0m\u001b[1;33m:\u001b[0m\u001b[1;33m\u001b[0m\u001b[0m\n",
      "\u001b[1;32mC:\\Users\\nisha\\AppData\\Local\\Continuum\\anaconda3\\lib\\site-packages\\pandas\\io\\parsers.py\u001b[0m in \u001b[0;36m__init__\u001b[1;34m(self, src, **kwds)\u001b[0m\n\u001b[0;32m   1603\u001b[0m         \u001b[0mkwds\u001b[0m\u001b[1;33m[\u001b[0m\u001b[1;34m'allow_leading_cols'\u001b[0m\u001b[1;33m]\u001b[0m \u001b[1;33m=\u001b[0m \u001b[0mself\u001b[0m\u001b[1;33m.\u001b[0m\u001b[0mindex_col\u001b[0m \u001b[1;32mis\u001b[0m \u001b[1;32mnot\u001b[0m \u001b[1;32mFalse\u001b[0m\u001b[1;33m\u001b[0m\u001b[0m\n\u001b[0;32m   1604\u001b[0m \u001b[1;33m\u001b[0m\u001b[0m\n\u001b[1;32m-> 1605\u001b[1;33m         \u001b[0mself\u001b[0m\u001b[1;33m.\u001b[0m\u001b[0m_reader\u001b[0m \u001b[1;33m=\u001b[0m \u001b[0mparsers\u001b[0m\u001b[1;33m.\u001b[0m\u001b[0mTextReader\u001b[0m\u001b[1;33m(\u001b[0m\u001b[0msrc\u001b[0m\u001b[1;33m,\u001b[0m \u001b[1;33m**\u001b[0m\u001b[0mkwds\u001b[0m\u001b[1;33m)\u001b[0m\u001b[1;33m\u001b[0m\u001b[0m\n\u001b[0m\u001b[0;32m   1606\u001b[0m \u001b[1;33m\u001b[0m\u001b[0m\n\u001b[0;32m   1607\u001b[0m         \u001b[1;31m# XXX\u001b[0m\u001b[1;33m\u001b[0m\u001b[1;33m\u001b[0m\u001b[0m\n",
      "\u001b[1;32mpandas/_libs/parsers.pyx\u001b[0m in \u001b[0;36mpandas._libs.parsers.TextReader.__cinit__ (pandas\\_libs\\parsers.c:4209)\u001b[1;34m()\u001b[0m\n",
      "\u001b[1;32mpandas/_libs/parsers.pyx\u001b[0m in \u001b[0;36mpandas._libs.parsers.TextReader._setup_parser_source (pandas\\_libs\\parsers.c:8873)\u001b[1;34m()\u001b[0m\n",
      "\u001b[1;31mFileNotFoundError\u001b[0m: File b'.//air_visit_data.csv' does not exist"
     ]
    }
   ],
   "source": [
    "#Load all the data to dataFrames\n",
    "import pandas as pd\n",
    "import numpy as np\n",
    "import re\n",
    "import numpy as np\n",
    "import matplotlib.pyplot as plt \n",
    "import matplotlib.dates as dates\n",
    "import seaborn as sns\n",
    "plt.style.use('fivethirtyeight')\n",
    "#Create  dataframes\n",
    "df_air_visit_data = pd.read_csv('.//air_visit_data.csv') #this is the training data\n",
    "df_air_store_info = pd.read_csv('.//air_store_info.csv')\n",
    "df_hpg_store_info = pd.read_csv('.//hpg_store_info.csv')\n",
    "df_air_reserve = pd.read_csv('.//air_reserve.csv')\n",
    "df_hpg_reserve = pd.read_csv('.//hpg_reserve.csv')\n",
    "df_store_id_realation = pd.read_csv('.//store_id_relation.csv')\n",
    "df_test_set = pd.read_csv('.//sample_submission.csv')\n",
    "df_date_info = pd.read_csv('.//date_info.csv')"
   ]
  },
  {
   "cell_type": "code",
   "execution_count": null,
   "metadata": {},
   "outputs": [],
   "source": [
    "\"\"\"\n",
    "Now inner join hpg_reserve, store_id_realation to get only those hpg stores which are having reservation info\n",
    "\n",
    "This can be helpful in getting hpg to air relation too.\n",
    "\"\"\"\n",
    "df_hpg_reserve_air_mapped = pd.merge(df_hpg_reserve,df_store_id_realation,on='hpg_store_id',how='inner')"
   ]
  },
  {
   "cell_type": "code",
   "execution_count": null,
   "metadata": {},
   "outputs": [],
   "source": [
    "#Neat Date-time format conversion\n",
    "df_air_reserve.visit_datetime = pd.to_datetime(df_air_reserve.visit_datetime)\n",
    "df_air_reserve.reserve_datetime = pd.to_datetime(df_air_reserve.reserve_datetime)\n",
    "df_air_visit_data.visit_date = pd.to_datetime(df_air_visit_data.visit_date)\n",
    "df_hpg_reserve_air_mapped.visit_datetime = pd.to_datetime(df_hpg_reserve_air_mapped.visit_datetime)\n",
    "df_hpg_reserve_air_mapped.reserve_datetime  = pd.to_datetime(df_hpg_reserve_air_mapped.reserve_datetime)\n",
    "df_date_info.calendar_date = pd.to_datetime(df_date_info.calendar_date)"
   ]
  },
  {
   "cell_type": "code",
   "execution_count": null,
   "metadata": {},
   "outputs": [],
   "source": [
    "#change the index of df_date_info to calendar_date\n",
    "df_date_info = df_date_info.set_index('calendar_date')"
   ]
  },
  {
   "cell_type": "code",
   "execution_count": null,
   "metadata": {},
   "outputs": [],
   "source": [
    "#creating holiday flag,,weekday column for air_reserve data\n",
    "df_air_reserve['visit_date'] = df_air_reserve.visit_datetime.dt.date\n",
    "df_air_reserve['holiday_flg'] = df_air_reserve.visit_date.apply(lambda x : df_date_info.loc[x]['holiday_flg'])\n",
    "df_air_reserve['day_of_week'] = df_air_reserve.visit_date.apply(lambda x : df_date_info.loc[x]['day_of_week'])"
   ]
  },
  {
   "cell_type": "code",
   "execution_count": null,
   "metadata": {},
   "outputs": [],
   "source": [
    "#creating holiday flag ,weekday column for air_visit data\n",
    "df_air_visit_data['holiday_flg'] = df_air_visit_data.visit_date.apply(lambda x : df_date_info.loc[x]['holiday_flg'])\n",
    "df_air_visit_data['day_of_week'] = df_air_visit_data.visit_date.apply(lambda x : df_date_info.loc[x]['day_of_week'])"
   ]
  },
  {
   "cell_type": "code",
   "execution_count": null,
   "metadata": {},
   "outputs": [],
   "source": [
    "#creating holiday flag ,weekday column for df_hpg_reserve_air_mapped\n",
    "df_hpg_reserve_air_mapped['visit_date'] = df_hpg_reserve_air_mapped.visit_datetime.dt.date\n",
    "df_hpg_reserve_air_mapped['holiday_flg'] = df_hpg_reserve_air_mapped.visit_date.apply(lambda x : df_date_info.loc[x]['holiday_flg'])\n",
    "df_hpg_reserve_air_mapped['day_of_week'] = df_hpg_reserve_air_mapped.visit_date.apply(lambda x : df_date_info.loc[x]['day_of_week'])"
   ]
  },
  {
   "cell_type": "code",
   "execution_count": null,
   "metadata": {},
   "outputs": [],
   "source": [
    "#Combine air_reserve and hpg_reserve data\n",
    "df_hpg_reserve_air_mapped = df_hpg_reserve_air_mapped.drop('hpg_store_id',axis=1)\n",
    "df_hpg_reserve_air_total = df_hpg_reserve_air_mapped.append(df_air_reserve)\n",
    "\n",
    "#After appending, df_hpg_reserve_air_mapped with df_air_reserve, drop the duplicates \n",
    "df_hpg_reserve_air_total = df_hpg_reserve_air_total.drop_duplicates()"
   ]
  },
  {
   "cell_type": "code",
   "execution_count": null,
   "metadata": {},
   "outputs": [],
   "source": [
    "len(df_hpg_reserve_air_total.air_store_id.unique())"
   ]
  },
  {
   "cell_type": "code",
   "execution_count": null,
   "metadata": {},
   "outputs": [],
   "source": [
    "#Inner join df_hpg_store_info & df_store_id_realtion to get only required hpg stores which are mapped to air stores\n",
    "df_hpg_store_info_joined = pd.merge(df_hpg_store_info,df_store_id_realation,how='inner',on='hpg_store_id')\n",
    "df_hpg_store_info_joined = df_hpg_store_info_joined.drop('hpg_store_id',axis=1)"
   ]
  },
  {
   "cell_type": "code",
   "execution_count": null,
   "metadata": {},
   "outputs": [],
   "source": [
    "#Rename columns\n",
    "df_hpg_store_info_joined = df_hpg_store_info_joined.rename(columns={'hpg_genre_name':'air_genre_name','hpg_area_name':'air_area_name'})"
   ]
  },
  {
   "cell_type": "code",
   "execution_count": null,
   "metadata": {},
   "outputs": [],
   "source": [
    "df_hpg_store_info_joined.head()"
   ]
  },
  {
   "cell_type": "code",
   "execution_count": null,
   "metadata": {},
   "outputs": [],
   "source": [
    "df_hpg_store_info_joined.shape"
   ]
  },
  {
   "cell_type": "code",
   "execution_count": null,
   "metadata": {},
   "outputs": [],
   "source": [
    "df_air_store_info.head()"
   ]
  },
  {
   "cell_type": "code",
   "execution_count": null,
   "metadata": {},
   "outputs": [],
   "source": [
    "df_air_hpg_total_store_info = df_air_store_info.append(df_hpg_store_info_joined)"
   ]
  },
  {
   "cell_type": "code",
   "execution_count": null,
   "metadata": {},
   "outputs": [],
   "source": [
    "df_air_hpg_total_store_info.head()"
   ]
  },
  {
   "cell_type": "code",
   "execution_count": null,
   "metadata": {},
   "outputs": [],
   "source": [
    "df_air_hpg_total_store_info.shape"
   ]
  },
  {
   "cell_type": "code",
   "execution_count": null,
   "metadata": {},
   "outputs": [],
   "source": [
    "# df_hpg_reserve_air_total --> dataFrame Having both hpg & air restaurant's reserve visitor's data\n",
    "# df_air_hpg_total_store_info ---> dataFrame Having both hpg & air restaurant's store info, summing up 892 stores info"
   ]
  },
  {
   "cell_type": "code",
   "execution_count": null,
   "metadata": {},
   "outputs": [],
   "source": [
    "df_hpg_reserve_air_mapped.head()"
   ]
  },
  {
   "cell_type": "code",
   "execution_count": null,
   "metadata": {},
   "outputs": [],
   "source": [
    "df_hpg_reserve_air_total.head()"
   ]
  },
  {
   "cell_type": "code",
   "execution_count": null,
   "metadata": {},
   "outputs": [],
   "source": [
    "df_air_hpg_total_store_info.head()"
   ]
  },
  {
   "cell_type": "code",
   "execution_count": null,
   "metadata": {},
   "outputs": [],
   "source": [
    "#set index of df_air_hpg_total_store_info as air_store_id\n",
    "#df_air_hpg_total_store_info = df_air_hpg_total_store_info.set_index('air_store_id')\n",
    "df_air_hpg_total_store_info.head()"
   ]
  },
  {
   "cell_type": "code",
   "execution_count": null,
   "metadata": {},
   "outputs": [],
   "source": [
    "#Merge df_air_hpg_total_store_info, df_air_visit_data to include latitude, longitude, genre, location\n",
    "df_air_visit_train = pd.merge(df_air_hpg_total_store_info,df_air_visit_data,on='air_store_id',how='inner')\n",
    "df_air_visit_train.head()"
   ]
  },
  {
   "cell_type": "code",
   "execution_count": null,
   "metadata": {},
   "outputs": [],
   "source": [
    "#Adding time difference between reservation time & visiting time as a feature\n",
    "df_hpg_reserve_air_total['time_diff'] = df_hpg_reserve_air_total['visit_datetime'].dt.date - df_hpg_reserve_air_total['reserve_datetime'].dt.date\n",
    "df_hpg_reserve_air_total['time_diff'] = df_hpg_reserve_air_total['time_diff'].dt.days"
   ]
  },
  {
   "cell_type": "code",
   "execution_count": null,
   "metadata": {},
   "outputs": [],
   "source": [
    "df_hpg_reserve_air_total = pd.merge(df_air_hpg_total_store_info,df_hpg_reserve_air_total,on='air_store_id',how='inner')"
   ]
  },
  {
   "cell_type": "code",
   "execution_count": null,
   "metadata": {},
   "outputs": [],
   "source": [
    "df_air_hpg_total_store_info.head()"
   ]
  },
  {
   "cell_type": "code",
   "execution_count": null,
   "metadata": {},
   "outputs": [],
   "source": [
    "df_hpg_reserve_air_total.head()"
   ]
  },
  {
   "cell_type": "code",
   "execution_count": null,
   "metadata": {},
   "outputs": [],
   "source": [
    "df_hpg_reserve_air_total.tail()"
   ]
  },
  {
   "cell_type": "markdown",
   "metadata": {},
   "source": [
    "### Clean Test set data "
   ]
  },
  {
   "cell_type": "code",
   "execution_count": null,
   "metadata": {},
   "outputs": [],
   "source": [
    "df_test_set.head()"
   ]
  },
  {
   "cell_type": "code",
   "execution_count": null,
   "metadata": {},
   "outputs": [],
   "source": [
    "#separate air_store_id & visit_date from id column of df_test_Set\n",
    "df_test_set['air_store_id'] = df_test_set['id'].map(lambda x : \"_\".join(x.split('_')[:2]))\n",
    "df_test_set['visit_date'] = df_test_set['id'].map(lambda x : \"_\".join(x.split('_')[2:]))\n",
    "df_test_set.head()"
   ]
  },
  {
   "cell_type": "code",
   "execution_count": null,
   "metadata": {
    "scrolled": true
   },
   "outputs": [],
   "source": [
    "#creating holiday flag ,weekday column for df_test_set\n",
    "df_test_set['visit_date'] = pd.to_datetime(df_test_set['visit_date'])\n",
    "df_test_set['holiday_flg'] = df_test_set['visit_date'].apply(lambda x : df_date_info.loc[x]['holiday_flg'])\n",
    "df_test_set['day_of_week'] = df_test_set['visit_date'].apply(lambda x : df_date_info.loc[x]['day_of_week'])\n",
    "df_test_set.head()"
   ]
  },
  {
   "cell_type": "markdown",
   "metadata": {},
   "source": [
    "# Exploratory Data Analysis on Visitor data with and without reservations made"
   ]
  },
  {
   "cell_type": "markdown",
   "metadata": {},
   "source": [
    "#### Holiday Effect on reservations & visitors count"
   ]
  },
  {
   "cell_type": "markdown",
   "metadata": {},
   "source": [
    "#### Reservation count"
   ]
  },
  {
   "cell_type": "code",
   "execution_count": null,
   "metadata": {},
   "outputs": [],
   "source": [
    "df_hpg_reserve_air_total.groupby(['holiday_flg','day_of_week']).sum()\n",
    "#for holiday_flg = 0 (not a holiday) has more reserved visitors when compared to that of holiday(holiday_flg=1) for each weekday\n",
    "#It means there is a good amount of business in weekdays which aren't holidays.\n",
    "#interesting thing is though it's holiday or not; friday has highest number of customers in a week"
   ]
  },
  {
   "cell_type": "code",
   "execution_count": null,
   "metadata": {},
   "outputs": [],
   "source": [
    "#change the type of holiday_flg, day_of_week \n",
    "df_hpg_reserve_air_total.holiday_flg = df_hpg_reserve_air_total.holiday_flg.astype('category')\n",
    "df_hpg_reserve_air_total.day_of_week = df_hpg_reserve_air_total.day_of_week.astype('category')"
   ]
  },
  {
   "cell_type": "code",
   "execution_count": null,
   "metadata": {},
   "outputs": [],
   "source": [
    "#do the short form of calendar days, viz Firday : Fri\n",
    "df_hpg_reserve_air_total.day_of_week = df_hpg_reserve_air_total.day_of_week.map({\"Friday\":\"Fri\",\"Saturday\":\"Sat\",\"Sunday\":\"Sun\",\"Wednesday\":\"Wed\",\"Monday\":\"Mon\",\"Tuesday\":\"Tue\",\"Thursday\":\"Thu\"})"
   ]
  },
  {
   "cell_type": "code",
   "execution_count": null,
   "metadata": {},
   "outputs": [],
   "source": [
    "sns.set(style='whitegrid')\n",
    "sns.factorplot(data=df_hpg_reserve_air_total, x='day_of_week',y='reserve_visitors',hue='holiday_flg',kind='box',size=10)\n",
    "plt.title('Box Plot of holiday trend in reserve visitors')\n",
    "sns.factorplot(data=df_hpg_reserve_air_total, x='day_of_week',y='reserve_visitors',hue='holiday_flg',kind='bar',size=10)\n",
    "plt.title('Bar Plot holiday trend in reserve visitors')\n",
    "plt.show()"
   ]
  },
  {
   "cell_type": "code",
   "execution_count": null,
   "metadata": {},
   "outputs": [],
   "source": [
    "sns.pointplot(data=df_hpg_reserve_air_total, x='day_of_week',y='reserve_visitors',hue='holiday_flg',\n",
    "             palette = {0:\"g\",1:\"m\"},\n",
    "              markers=[\"^\", \"o\"], linestyles=[\"-\", \"--\"]\n",
    "             )\n",
    "plt.show()"
   ]
  },
  {
   "cell_type": "markdown",
   "metadata": {},
   "source": [
    "#### Visitor Count"
   ]
  },
  {
   "cell_type": "code",
   "execution_count": null,
   "metadata": {},
   "outputs": [],
   "source": [
    "df_air_visit_train.groupby(['holiday_flg','day_of_week'])['visitors'].sum()"
   ]
  },
  {
   "cell_type": "code",
   "execution_count": null,
   "metadata": {},
   "outputs": [],
   "source": [
    "df_air_visit_train.holiday_flg = df_air_visit_train.holiday_flg.astype('category')\n",
    "df_air_visit_train.day_of_week = df_air_visit_train.day_of_week.astype('category')\n",
    "df_air_visit_train.day_of_week = df_air_visit_train.day_of_week.map({\"Friday\":\"Fri\",\"Saturday\":\"Sat\",\"Sunday\":\"Sun\",\"Wednesday\":\"Wed\",\"Monday\":\"Mon\",\"Tuesday\":\"Tue\",\"Thursday\":\"Thu\"})"
   ]
  },
  {
   "cell_type": "code",
   "execution_count": null,
   "metadata": {},
   "outputs": [],
   "source": [
    "sns.set(style='whitegrid')\n",
    "sns.factorplot(data=df_air_visit_train, x='day_of_week',y='visitors',hue='holiday_flg',kind='box',size=10)\n",
    "plt.title('Box Plot of holiday trend in  visitors with no reservations')\n",
    "sns.factorplot(data=df_air_visit_train, x='day_of_week',y='visitors',hue='holiday_flg',kind='bar',size=10)\n",
    "plt.title('Bar Plot holiday trend in  visitors with no reservations')\n",
    "plt.show()"
   ]
  },
  {
   "cell_type": "code",
   "execution_count": null,
   "metadata": {},
   "outputs": [],
   "source": [
    "sns.pointplot(data=df_air_visit_train, x='day_of_week',y='visitors',hue='holiday_flg',\n",
    "             palette = {0:\"g\",1:\"m\"},\n",
    "              markers=[\"^\", \"o\"], linestyles=[\"-\", \"--\"]\n",
    "             )\n",
    "plt.show()"
   ]
  },
  {
   "cell_type": "markdown",
   "metadata": {},
   "source": [
    "### Trend in visitor count with and without reservations"
   ]
  },
  {
   "cell_type": "code",
   "execution_count": null,
   "metadata": {},
   "outputs": [],
   "source": [
    "df1 = df_hpg_reserve_air_total[['visit_date', 'reserve_visitors']].groupby('visit_date').sum().reset_index()\n",
    "#df1.visit_date = df1.visit_date.astype('str')\n",
    "df2 = df_air_visit_train[['visit_date','visitors']].groupby('visit_date').sum().reset_index()\n",
    "#df2.visit_date = df2.visit_date.astype('str')"
   ]
  },
  {
   "cell_type": "code",
   "execution_count": null,
   "metadata": {},
   "outputs": [],
   "source": [
    "df1 = df1.set_index('visit_date')\n",
    "df2 = df2.set_index('visit_date')"
   ]
  },
  {
   "cell_type": "code",
   "execution_count": null,
   "metadata": {},
   "outputs": [],
   "source": [
    "df1.head()"
   ]
  },
  {
   "cell_type": "code",
   "execution_count": null,
   "metadata": {},
   "outputs": [],
   "source": [
    "df2.head()"
   ]
  },
  {
   "cell_type": "code",
   "execution_count": null,
   "metadata": {},
   "outputs": [],
   "source": [
    "f,ax=plt.subplots(1,1,figsize=(15,8))\n",
    "df1.plot(color='c',kind='line',ax=ax)\n",
    "df2.plot(color='r',kind='area',ax=ax)\n",
    "plt.ylabel('Visitor Count')\n",
    "plt.title('Trend in visitor count with and without reservations')\n",
    "plt.show()"
   ]
  },
  {
   "cell_type": "markdown",
   "metadata": {},
   "source": [
    "From the plot above, it can be inferred that very high number customers are visiting restaurant without reservations in combined\n",
    "air & hpg systems."
   ]
  },
  {
   "cell_type": "markdown",
   "metadata": {},
   "source": [
    "### Which Cuisine is most liked in overall restaurants"
   ]
  },
  {
   "cell_type": "markdown",
   "metadata": {},
   "source": [
    "#### In visitors(no reservations) data"
   ]
  },
  {
   "cell_type": "code",
   "execution_count": null,
   "metadata": {},
   "outputs": [],
   "source": [
    "df_air_visit_train.head()"
   ]
  },
  {
   "cell_type": "code",
   "execution_count": null,
   "metadata": {},
   "outputs": [],
   "source": [
    "df_hpg_reserve_air_total.head()"
   ]
  },
  {
   "cell_type": "code",
   "execution_count": null,
   "metadata": {},
   "outputs": [],
   "source": [
    "df1_genre = df_air_visit_train[['air_genre_name','visitors']].groupby('air_genre_name').sum().reset_index()\n",
    "df1_genre = df1_genre.set_index('air_genre_name')"
   ]
  },
  {
   "cell_type": "code",
   "execution_count": null,
   "metadata": {},
   "outputs": [],
   "source": [
    "f,ax=plt.subplots(1,1,figsize=(15,8))\n",
    "ax.set_xticklabels(ax.get_xticklabels(), fontsize=20)\n",
    "df1_genre.plot(color='c',kind='bar',ax=ax)\n",
    "plt.title(\"Trending Cuisine(No Reservations)\")\n",
    "plt.ylabel('Overall Restaurants Visitor Count')\n",
    "plt.xlabel('Cuisine')\n",
    "plt.show()"
   ]
  },
  {
   "cell_type": "markdown",
   "metadata": {},
   "source": [
    "#### From the plot above between cuisine and total visitor count, it is clear Most of the visitors ordered Izakaya food in total"
   ]
  },
  {
   "cell_type": "markdown",
   "metadata": {},
   "source": [
    "#### Visitors With Reservation"
   ]
  },
  {
   "cell_type": "code",
   "execution_count": null,
   "metadata": {},
   "outputs": [],
   "source": [
    "df2_genre = df_hpg_reserve_air_total[['air_genre_name','reserve_visitors']].groupby('air_genre_name').sum()"
   ]
  },
  {
   "cell_type": "code",
   "execution_count": null,
   "metadata": {},
   "outputs": [],
   "source": [
    "df2_genre"
   ]
  },
  {
   "cell_type": "code",
   "execution_count": null,
   "metadata": {},
   "outputs": [],
   "source": [
    "f,ax=plt.subplots(1,1,figsize=(15,8))\n",
    "ax.set_xticklabels(ax.get_xticklabels(), fontsize=20)\n",
    "df2_genre.plot(color='c',kind='bar',ax=ax)\n",
    "plt.title(\"Trending Cuisine(With reservations)\")\n",
    "plt.ylabel('Overall Restaurants Visitor Count')\n",
    "plt.xlabel('Cuisine')\n",
    "plt.show()"
   ]
  },
  {
   "cell_type": "markdown",
   "metadata": {},
   "source": [
    "##### From the plot above, it can be inferred that most of the reserved restaurants are those which serve Izakaya food."
   ]
  },
  {
   "cell_type": "markdown",
   "metadata": {},
   "source": [
    "#### Competition trends among restaurants based on location"
   ]
  },
  {
   "cell_type": "code",
   "execution_count": null,
   "metadata": {},
   "outputs": [],
   "source": [
    "df_air_visit_train.head()"
   ]
  },
  {
   "cell_type": "code",
   "execution_count": null,
   "metadata": {},
   "outputs": [],
   "source": [
    "df1_restaurant = df_air_visit_train[['latitude','longitude','air_store_id']]\n",
    "#dropping duplicates of weather location and air_store_ids\n",
    "df1_restaurant = df1_restaurant.drop_duplicates()\n",
    "df1_restaurant['location'] = df1_restaurant['latitude'] + df1_restaurant['longitude']"
   ]
  },
  {
   "cell_type": "code",
   "execution_count": null,
   "metadata": {},
   "outputs": [],
   "source": [
    "df1_restaurant = df1_restaurant.groupby('location').count().reset_index()"
   ]
  },
  {
   "cell_type": "code",
   "execution_count": null,
   "metadata": {},
   "outputs": [],
   "source": [
    "sns.regplot(data=df1_restaurant, x='location', y='air_store_id',fit_reg=False)\n",
    "plt.title(\"Location tracking of most visited(without reservations) competitive restaurants\")\n",
    "plt.show()"
   ]
  },
  {
   "cell_type": "code",
   "execution_count": null,
   "metadata": {},
   "outputs": [],
   "source": [
    "df_hpg_reserve_air_total.head()"
   ]
  },
  {
   "cell_type": "code",
   "execution_count": null,
   "metadata": {},
   "outputs": [],
   "source": [
    "df2_restaurant = df_hpg_reserve_air_total[['latitude','longitude','air_store_id']]\n",
    "#dropping duplicates of weather location and air_store_ids\n",
    "df2_restaurant = df2_restaurant.drop_duplicates()\n",
    "df2_restaurant['location'] = df2_restaurant['latitude'] + df2_restaurant['longitude']"
   ]
  },
  {
   "cell_type": "code",
   "execution_count": null,
   "metadata": {},
   "outputs": [],
   "source": [
    "df2_restaurant = df2_restaurant.groupby('location').count().reset_index()"
   ]
  },
  {
   "cell_type": "code",
   "execution_count": null,
   "metadata": {},
   "outputs": [],
   "source": [
    "sns.regplot(data=df2_restaurant, x='location', y='air_store_id',fit_reg=False)\n",
    "plt.title(\"Location tracking of most reserved competitive restaurants\")\n",
    "plt.show()"
   ]
  },
  {
   "cell_type": "markdown",
   "metadata": {},
   "source": [
    "Most competitive restaturants with reservations are located in a place where the sum of of latitide and logitude is approximate to 175.\n"
   ]
  },
  {
   "cell_type": "code",
   "execution_count": null,
   "metadata": {},
   "outputs": [],
   "source": []
  }
 ],
 "metadata": {
  "kernelspec": {
   "display_name": "Python 3",
   "language": "python",
   "name": "python3"
  },
  "language_info": {
   "codemirror_mode": {
    "name": "ipython",
    "version": 3
   },
   "file_extension": ".py",
   "mimetype": "text/x-python",
   "name": "python",
   "nbconvert_exporter": "python",
   "pygments_lexer": "ipython3",
   "version": "3.6.3"
  }
 },
 "nbformat": 4,
 "nbformat_minor": 2
}
