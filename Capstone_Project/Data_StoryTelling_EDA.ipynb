{
 "cells": [
  {
   "cell_type": "raw",
   "metadata": {},
   "source": [
    "\n",
    "DataFrame LookUp table\n",
    "--------------------------------------------------------------------------------------------------\n",
    "      DATAFRAME      |   Description                                                              |\n",
    "++++++++++++++++++++ + +++++++++++++++++++++++++++++++++++++++++++++++++++++++++++++++++++++++++++\n",
    "df_air_visit_data    | This contains visiting data of customers in \n",
    "                     | air system; Total 829 unique restaurants are visited.\n",
    "                     | columns : air_store_id; visit_date; visitors\n",
    "++++++++++++++++++++ + ++++++++++++++++++++++++++++++++++++++++++++++++++++++++++++++++++++++++++++\n",
    "df_air_store_info    | This contains restaurants(stores) info\n",
    "                     | contained in air system;\n",
    "                     | columns : air_store_id; air_genre_name(type of food being served);\n",
    "                     |           air_area_name;latitude; longitude\n",
    "++++++++++++++++++++ + +++++++++++++++++++++++++++++++++++++++++++++++++++++++++++++++++++++++++++++\n",
    "df_hpg_store_info    | This contains restaurants(stores) info\n",
    "                     | contained in hpg system;\n",
    "                     | columns : hpg_store_id; hpg_genre_name(type of food being served);\n",
    "                     |           hpg_area_name;latitude; longitude\n",
    "++++++++++++++++++++ + ++++++++++++++++++++++++++++++++++++++++++++++++++++++++++++++++++++++++++++++\n",
    "df_air_reserve       | This contains visiting data of customers who have done reservation \n",
    "                     | air system;\n",
    "                     | columns : air_store_id; visit_datetime; reserve_datetime; reserve_visitors\n",
    "++++++++++++++++++++ + ++++++++++++++++++++++++++++++++++++++++++++++++++++++++++++++++++++++++++++++\n",
    "df_hpg_reserve       | This contains visiting data of customers who have done reservation \n",
    "                     | hpg system;\n",
    "                     | columns : hpg_store_id; visit_datetime; reserve_datetime; reserve_visitors\n",
    "++++++++++++++++++++ + ++++++++++++++++++++++++++++++++++++++++++++++++++++++++++++++++++++++++++++++\n",
    "df_store_id_realation| This dataframe contains mapping between air & hpg restaurants\n",
    "                     |  It can be potentially used to join/merge the remaining dataframes\n",
    "                     | columns : air_store_id; hpg_store_id\n",
    "++++++++++++++++++++ + ++++++++++++++++++++++++++++++++++++++++++++++++++++++++++++++++++++++++++++++\n",
    "df_date_info         |  It contains weekday and holiday information for a given calendar date\n",
    "                     | columns : air_store_id; hpg_store_id\n",
    "++++++++++++++++++++ + ++++++++++++++++++++++++++++++++++++++++++++++++++++++++++++++++++++++++++++++\n",
    "df_test_set          | This is a test data having air store ids and calendar date and blank colulmn\n",
    "                     |  to predict visitor count for each air_store_id\n",
    "                     | columns : id, visitors\n",
    "++++++++++++++++++++ + ++++++++++++++++++++++++++++++++++++++++++++++++++++++++++++++++++++++++++++++\n",
    "\n",
    "++++++++++++++++++++ + ++ + +++++++++++++++++++++++++++++++++++++++++++++++++++++++++++++++++++++++++\n",
    "                          |\n",
    "df_hpg_reserve_air_mapped | This is a inner join between df_hpg_reserve,df_store_id_realation\n",
    "                          |  to get only those hpg stores which are having air store id\n",
    "                          | Columns : visit_datetime; reserve_datetime; reserve_visitors; air_store_id\n",
    "                          |           visit_date; holiday_flg; day_of_week\n",
    "++++++++++++++++++++ + ++ + +++++++++++++++++++++++++++++++++++++++++++++++++++++++++++++++++++++++++++   \n",
    "df_hpg_reserve_air_total  | It contains total air & hpg reserve info, where hpg store id are mapped to\n",
    "                          |  their air store ids.\n",
    "                          |   It has information of 333 stores which are reserved to visit.\n",
    "                          | Columns : air_store_id; day_of_week; holiday_flg; reserve_datetime\n",
    "                                      reserve_visitors; visit_date; visit_datetime; time_diff\n",
    "++++++++++++++++++++ + ++++ + +++++++++++++++++++++++++++++++++++++++++++++++++++++++++++++++++++++++++\n",
    "df_air_hpg_total_store_info |  It contains total air & hpg store info, where hpg store id are mapped to\n",
    "                            |  their air store ids.\n",
    "                            |  It has information of 892 stores info.\n",
    "                            | Columns: air_area_name; air_genre_name; air_store_id; latitude; longitude\n",
    "++++++++++++++++++++ + ++++ + +++++++++++++++++++++++++++++++++++++++++++++++++++++++++++++++++++++++++\n",
    "df_air_visit_train          |  This contains the df_air_visit_data, where holiday flag, weather inforamtion\n",
    "                            |  is added along with.\n",
    "                            | Columns : air_store_id; air_area_name; air_genre_name; latitude; longitude;\n",
    "                            | visit_date; visitors; holiday_flg; day_of_week;"
   ]
  },
  {
   "cell_type": "code",
   "execution_count": 202,
   "metadata": {},
   "outputs": [],
   "source": [
    "#Load all the data to dataFrames\n",
    "import pandas as pd\n",
    "import numpy as np\n",
    "import re\n",
    "import numpy as np\n",
    "import matplotlib.pyplot as plt \n",
    "import matplotlib.dates as dates\n",
    "import seaborn as sns\n",
    "plt.style.use('fivethirtyeight')\n",
    "#Create  dataframes\n",
    "df_air_visit_data = pd.read_csv('.//air_visit_data.csv') #this is the training data\n",
    "df_air_store_info = pd.read_csv('.//air_store_info.csv')\n",
    "df_hpg_store_info = pd.read_csv('.//hpg_store_info.csv')\n",
    "df_air_reserve = pd.read_csv('.//air_reserve.csv')\n",
    "df_hpg_reserve = pd.read_csv('.//hpg_reserve.csv')\n",
    "df_store_id_realation = pd.read_csv('.//store_id_relation.csv')\n",
    "df_test_set = pd.read_csv('.//sample_submission.csv')\n",
    "df_date_info = pd.read_csv('.//date_info.csv')"
   ]
  },
  {
   "cell_type": "code",
   "execution_count": 203,
   "metadata": {},
   "outputs": [],
   "source": [
    "\"\"\"\n",
    "Now inner join hpg_reserve, store_id_realation to get only those hpg stores which are having reservation info\n",
    "\n",
    "This can be helpful in getting hpg to air relation too.\n",
    "\"\"\"\n",
    "df_hpg_reserve_air_mapped = pd.merge(df_hpg_reserve,df_store_id_realation,on='hpg_store_id',how='inner')"
   ]
  },
  {
   "cell_type": "code",
   "execution_count": 204,
   "metadata": {},
   "outputs": [],
   "source": [
    "#Neat Date-time format conversion\n",
    "df_air_reserve.visit_datetime = pd.to_datetime(df_air_reserve.visit_datetime)\n",
    "df_air_reserve.reserve_datetime = pd.to_datetime(df_air_reserve.reserve_datetime)\n",
    "df_air_visit_data.visit_date = pd.to_datetime(df_air_visit_data.visit_date)\n",
    "df_hpg_reserve_air_mapped.visit_datetime = pd.to_datetime(df_hpg_reserve_air_mapped.visit_datetime)\n",
    "df_hpg_reserve_air_mapped.reserve_datetime  = pd.to_datetime(df_hpg_reserve_air_mapped.reserve_datetime)\n",
    "df_date_info.calendar_date = pd.to_datetime(df_date_info.calendar_date)"
   ]
  },
  {
   "cell_type": "code",
   "execution_count": 205,
   "metadata": {},
   "outputs": [],
   "source": [
    "#change the index of df_date_info to calendar_date\n",
    "df_date_info = df_date_info.set_index('calendar_date')"
   ]
  },
  {
   "cell_type": "code",
   "execution_count": 206,
   "metadata": {},
   "outputs": [],
   "source": [
    "#creating holiday flag,,weekday column for air_reserve data\n",
    "df_air_reserve['visit_date'] = df_air_reserve.visit_datetime.dt.date\n",
    "df_air_reserve['holiday_flg'] = df_air_reserve.visit_date.apply(lambda x : df_date_info.loc[x]['holiday_flg'])\n",
    "df_air_reserve['day_of_week'] = df_air_reserve.visit_date.apply(lambda x : df_date_info.loc[x]['day_of_week'])"
   ]
  },
  {
   "cell_type": "code",
   "execution_count": 207,
   "metadata": {},
   "outputs": [],
   "source": [
    "#creating holiday flag ,weekday column for air_visit data\n",
    "df_air_visit_data['holiday_flg'] = df_air_visit_data.visit_date.apply(lambda x : df_date_info.loc[x]['holiday_flg'])\n",
    "df_air_visit_data['day_of_week'] = df_air_visit_data.visit_date.apply(lambda x : df_date_info.loc[x]['day_of_week'])"
   ]
  },
  {
   "cell_type": "code",
   "execution_count": 208,
   "metadata": {},
   "outputs": [],
   "source": [
    "#creating holiday flag ,weekday column for df_hpg_reserve_air_mapped\n",
    "df_hpg_reserve_air_mapped['visit_date'] = df_hpg_reserve_air_mapped.visit_datetime.dt.date\n",
    "df_hpg_reserve_air_mapped['holiday_flg'] = df_hpg_reserve_air_mapped.visit_date.apply(lambda x : df_date_info.loc[x]['holiday_flg'])\n",
    "df_hpg_reserve_air_mapped['day_of_week'] = df_hpg_reserve_air_mapped.visit_date.apply(lambda x : df_date_info.loc[x]['day_of_week'])"
   ]
  },
  {
   "cell_type": "code",
   "execution_count": 209,
   "metadata": {},
   "outputs": [],
   "source": [
    "#Combine air_reserve and hpg_reserve data\n",
    "df_hpg_reserve_air_mapped = df_hpg_reserve_air_mapped.drop('hpg_store_id',axis=1)\n",
    "df_hpg_reserve_air_total = df_hpg_reserve_air_mapped.append(df_air_reserve)\n",
    "\n",
    "#After appending, df_hpg_reserve_air_mapped with df_air_reserve, drop the duplicates \n",
    "df_hpg_reserve_air_total = df_hpg_reserve_air_total.drop_duplicates()"
   ]
  },
  {
   "cell_type": "code",
   "execution_count": 210,
   "metadata": {},
   "outputs": [
    {
     "data": {
      "text/plain": [
       "333"
      ]
     },
     "execution_count": 210,
     "metadata": {},
     "output_type": "execute_result"
    }
   ],
   "source": [
    "len(df_hpg_reserve_air_total.air_store_id.unique())"
   ]
  },
  {
   "cell_type": "code",
   "execution_count": 211,
   "metadata": {},
   "outputs": [],
   "source": [
    "#Inner join df_hpg_store_info & df_store_id_realtion to get only required hpg stores which are mapped to air stores\n",
    "df_hpg_store_info_joined = pd.merge(df_hpg_store_info,df_store_id_realation,how='inner',on='hpg_store_id')\n",
    "df_hpg_store_info_joined = df_hpg_store_info_joined.drop('hpg_store_id',axis=1)"
   ]
  },
  {
   "cell_type": "code",
   "execution_count": 212,
   "metadata": {},
   "outputs": [],
   "source": [
    "#Rename columns\n",
    "df_hpg_store_info_joined = df_hpg_store_info_joined.rename(columns={'hpg_genre_name':'air_genre_name','hpg_area_name':'air_area_name'})"
   ]
  },
  {
   "cell_type": "code",
   "execution_count": 213,
   "metadata": {},
   "outputs": [
    {
     "data": {
      "text/html": [
       "<div>\n",
       "<style>\n",
       "    .dataframe thead tr:only-child th {\n",
       "        text-align: right;\n",
       "    }\n",
       "\n",
       "    .dataframe thead th {\n",
       "        text-align: left;\n",
       "    }\n",
       "\n",
       "    .dataframe tbody tr th {\n",
       "        vertical-align: top;\n",
       "    }\n",
       "</style>\n",
       "<table border=\"1\" class=\"dataframe\">\n",
       "  <thead>\n",
       "    <tr style=\"text-align: right;\">\n",
       "      <th></th>\n",
       "      <th>air_genre_name</th>\n",
       "      <th>air_area_name</th>\n",
       "      <th>latitude</th>\n",
       "      <th>longitude</th>\n",
       "      <th>air_store_id</th>\n",
       "    </tr>\n",
       "  </thead>\n",
       "  <tbody>\n",
       "    <tr>\n",
       "      <th>0</th>\n",
       "      <td>Japanese style</td>\n",
       "      <td>Tōkyō-to Chūō-ku Ginza</td>\n",
       "      <td>35.668600</td>\n",
       "      <td>139.763043</td>\n",
       "      <td>air_2aab19554f91ff82</td>\n",
       "    </tr>\n",
       "    <tr>\n",
       "      <th>1</th>\n",
       "      <td>Japanese style</td>\n",
       "      <td>Tōkyō-to Sumida-ku Tachibana</td>\n",
       "      <td>35.704960</td>\n",
       "      <td>139.828642</td>\n",
       "      <td>air_258ad2619d7bff9a</td>\n",
       "    </tr>\n",
       "    <tr>\n",
       "      <th>2</th>\n",
       "      <td>Japanese style</td>\n",
       "      <td>Hiroshima-ken Hiroshima-shi Hondōri</td>\n",
       "      <td>34.392106</td>\n",
       "      <td>132.461914</td>\n",
       "      <td>air_c47aa7493b15f297</td>\n",
       "    </tr>\n",
       "    <tr>\n",
       "      <th>3</th>\n",
       "      <td>Japanese style</td>\n",
       "      <td>Ōsaka-fu Ōsaka-shi Shinsaibashisuji</td>\n",
       "      <td>34.669514</td>\n",
       "      <td>135.501425</td>\n",
       "      <td>air_96005f79124e12bf</td>\n",
       "    </tr>\n",
       "    <tr>\n",
       "      <th>4</th>\n",
       "      <td>Japanese style</td>\n",
       "      <td>Tōkyō-to Taitō-ku None</td>\n",
       "      <td>35.711353</td>\n",
       "      <td>139.782684</td>\n",
       "      <td>air_f2c5a1f24279c531</td>\n",
       "    </tr>\n",
       "  </tbody>\n",
       "</table>\n",
       "</div>"
      ],
      "text/plain": [
       "   air_genre_name                        air_area_name   latitude   longitude  \\\n",
       "0  Japanese style               Tōkyō-to Chūō-ku Ginza  35.668600  139.763043   \n",
       "1  Japanese style         Tōkyō-to Sumida-ku Tachibana  35.704960  139.828642   \n",
       "2  Japanese style  Hiroshima-ken Hiroshima-shi Hondōri  34.392106  132.461914   \n",
       "3  Japanese style  Ōsaka-fu Ōsaka-shi Shinsaibashisuji  34.669514  135.501425   \n",
       "4  Japanese style               Tōkyō-to Taitō-ku None  35.711353  139.782684   \n",
       "\n",
       "           air_store_id  \n",
       "0  air_2aab19554f91ff82  \n",
       "1  air_258ad2619d7bff9a  \n",
       "2  air_c47aa7493b15f297  \n",
       "3  air_96005f79124e12bf  \n",
       "4  air_f2c5a1f24279c531  "
      ]
     },
     "execution_count": 213,
     "metadata": {},
     "output_type": "execute_result"
    }
   ],
   "source": [
    "df_hpg_store_info_joined.head()"
   ]
  },
  {
   "cell_type": "code",
   "execution_count": 214,
   "metadata": {},
   "outputs": [
    {
     "data": {
      "text/plain": [
       "(63, 5)"
      ]
     },
     "execution_count": 214,
     "metadata": {},
     "output_type": "execute_result"
    }
   ],
   "source": [
    "df_hpg_store_info_joined.shape"
   ]
  },
  {
   "cell_type": "code",
   "execution_count": 215,
   "metadata": {},
   "outputs": [
    {
     "data": {
      "text/html": [
       "<div>\n",
       "<style>\n",
       "    .dataframe thead tr:only-child th {\n",
       "        text-align: right;\n",
       "    }\n",
       "\n",
       "    .dataframe thead th {\n",
       "        text-align: left;\n",
       "    }\n",
       "\n",
       "    .dataframe tbody tr th {\n",
       "        vertical-align: top;\n",
       "    }\n",
       "</style>\n",
       "<table border=\"1\" class=\"dataframe\">\n",
       "  <thead>\n",
       "    <tr style=\"text-align: right;\">\n",
       "      <th></th>\n",
       "      <th>air_store_id</th>\n",
       "      <th>air_genre_name</th>\n",
       "      <th>air_area_name</th>\n",
       "      <th>latitude</th>\n",
       "      <th>longitude</th>\n",
       "    </tr>\n",
       "  </thead>\n",
       "  <tbody>\n",
       "    <tr>\n",
       "      <th>0</th>\n",
       "      <td>air_0f0cdeee6c9bf3d7</td>\n",
       "      <td>Italian/French</td>\n",
       "      <td>Hyōgo-ken Kōbe-shi Kumoidōri</td>\n",
       "      <td>34.695124</td>\n",
       "      <td>135.197852</td>\n",
       "    </tr>\n",
       "    <tr>\n",
       "      <th>1</th>\n",
       "      <td>air_7cc17a324ae5c7dc</td>\n",
       "      <td>Italian/French</td>\n",
       "      <td>Hyōgo-ken Kōbe-shi Kumoidōri</td>\n",
       "      <td>34.695124</td>\n",
       "      <td>135.197852</td>\n",
       "    </tr>\n",
       "    <tr>\n",
       "      <th>2</th>\n",
       "      <td>air_fee8dcf4d619598e</td>\n",
       "      <td>Italian/French</td>\n",
       "      <td>Hyōgo-ken Kōbe-shi Kumoidōri</td>\n",
       "      <td>34.695124</td>\n",
       "      <td>135.197852</td>\n",
       "    </tr>\n",
       "    <tr>\n",
       "      <th>3</th>\n",
       "      <td>air_a17f0778617c76e2</td>\n",
       "      <td>Italian/French</td>\n",
       "      <td>Hyōgo-ken Kōbe-shi Kumoidōri</td>\n",
       "      <td>34.695124</td>\n",
       "      <td>135.197852</td>\n",
       "    </tr>\n",
       "    <tr>\n",
       "      <th>4</th>\n",
       "      <td>air_83db5aff8f50478e</td>\n",
       "      <td>Italian/French</td>\n",
       "      <td>Tōkyō-to Minato-ku Shibakōen</td>\n",
       "      <td>35.658068</td>\n",
       "      <td>139.751599</td>\n",
       "    </tr>\n",
       "  </tbody>\n",
       "</table>\n",
       "</div>"
      ],
      "text/plain": [
       "           air_store_id  air_genre_name                 air_area_name  \\\n",
       "0  air_0f0cdeee6c9bf3d7  Italian/French  Hyōgo-ken Kōbe-shi Kumoidōri   \n",
       "1  air_7cc17a324ae5c7dc  Italian/French  Hyōgo-ken Kōbe-shi Kumoidōri   \n",
       "2  air_fee8dcf4d619598e  Italian/French  Hyōgo-ken Kōbe-shi Kumoidōri   \n",
       "3  air_a17f0778617c76e2  Italian/French  Hyōgo-ken Kōbe-shi Kumoidōri   \n",
       "4  air_83db5aff8f50478e  Italian/French  Tōkyō-to Minato-ku Shibakōen   \n",
       "\n",
       "    latitude   longitude  \n",
       "0  34.695124  135.197852  \n",
       "1  34.695124  135.197852  \n",
       "2  34.695124  135.197852  \n",
       "3  34.695124  135.197852  \n",
       "4  35.658068  139.751599  "
      ]
     },
     "execution_count": 215,
     "metadata": {},
     "output_type": "execute_result"
    }
   ],
   "source": [
    "df_air_store_info.head()"
   ]
  },
  {
   "cell_type": "code",
   "execution_count": 216,
   "metadata": {},
   "outputs": [],
   "source": [
    "df_air_hpg_total_store_info = df_air_store_info.append(df_hpg_store_info_joined)"
   ]
  },
  {
   "cell_type": "code",
   "execution_count": 217,
   "metadata": {},
   "outputs": [
    {
     "data": {
      "text/html": [
       "<div>\n",
       "<style>\n",
       "    .dataframe thead tr:only-child th {\n",
       "        text-align: right;\n",
       "    }\n",
       "\n",
       "    .dataframe thead th {\n",
       "        text-align: left;\n",
       "    }\n",
       "\n",
       "    .dataframe tbody tr th {\n",
       "        vertical-align: top;\n",
       "    }\n",
       "</style>\n",
       "<table border=\"1\" class=\"dataframe\">\n",
       "  <thead>\n",
       "    <tr style=\"text-align: right;\">\n",
       "      <th></th>\n",
       "      <th>air_area_name</th>\n",
       "      <th>air_genre_name</th>\n",
       "      <th>air_store_id</th>\n",
       "      <th>latitude</th>\n",
       "      <th>longitude</th>\n",
       "    </tr>\n",
       "  </thead>\n",
       "  <tbody>\n",
       "    <tr>\n",
       "      <th>0</th>\n",
       "      <td>Hyōgo-ken Kōbe-shi Kumoidōri</td>\n",
       "      <td>Italian/French</td>\n",
       "      <td>air_0f0cdeee6c9bf3d7</td>\n",
       "      <td>34.695124</td>\n",
       "      <td>135.197852</td>\n",
       "    </tr>\n",
       "    <tr>\n",
       "      <th>1</th>\n",
       "      <td>Hyōgo-ken Kōbe-shi Kumoidōri</td>\n",
       "      <td>Italian/French</td>\n",
       "      <td>air_7cc17a324ae5c7dc</td>\n",
       "      <td>34.695124</td>\n",
       "      <td>135.197852</td>\n",
       "    </tr>\n",
       "    <tr>\n",
       "      <th>2</th>\n",
       "      <td>Hyōgo-ken Kōbe-shi Kumoidōri</td>\n",
       "      <td>Italian/French</td>\n",
       "      <td>air_fee8dcf4d619598e</td>\n",
       "      <td>34.695124</td>\n",
       "      <td>135.197852</td>\n",
       "    </tr>\n",
       "    <tr>\n",
       "      <th>3</th>\n",
       "      <td>Hyōgo-ken Kōbe-shi Kumoidōri</td>\n",
       "      <td>Italian/French</td>\n",
       "      <td>air_a17f0778617c76e2</td>\n",
       "      <td>34.695124</td>\n",
       "      <td>135.197852</td>\n",
       "    </tr>\n",
       "    <tr>\n",
       "      <th>4</th>\n",
       "      <td>Tōkyō-to Minato-ku Shibakōen</td>\n",
       "      <td>Italian/French</td>\n",
       "      <td>air_83db5aff8f50478e</td>\n",
       "      <td>35.658068</td>\n",
       "      <td>139.751599</td>\n",
       "    </tr>\n",
       "  </tbody>\n",
       "</table>\n",
       "</div>"
      ],
      "text/plain": [
       "                  air_area_name  air_genre_name          air_store_id  \\\n",
       "0  Hyōgo-ken Kōbe-shi Kumoidōri  Italian/French  air_0f0cdeee6c9bf3d7   \n",
       "1  Hyōgo-ken Kōbe-shi Kumoidōri  Italian/French  air_7cc17a324ae5c7dc   \n",
       "2  Hyōgo-ken Kōbe-shi Kumoidōri  Italian/French  air_fee8dcf4d619598e   \n",
       "3  Hyōgo-ken Kōbe-shi Kumoidōri  Italian/French  air_a17f0778617c76e2   \n",
       "4  Tōkyō-to Minato-ku Shibakōen  Italian/French  air_83db5aff8f50478e   \n",
       "\n",
       "    latitude   longitude  \n",
       "0  34.695124  135.197852  \n",
       "1  34.695124  135.197852  \n",
       "2  34.695124  135.197852  \n",
       "3  34.695124  135.197852  \n",
       "4  35.658068  139.751599  "
      ]
     },
     "execution_count": 217,
     "metadata": {},
     "output_type": "execute_result"
    }
   ],
   "source": [
    "df_air_hpg_total_store_info.head()"
   ]
  },
  {
   "cell_type": "code",
   "execution_count": 218,
   "metadata": {},
   "outputs": [
    {
     "data": {
      "text/plain": [
       "(892, 5)"
      ]
     },
     "execution_count": 218,
     "metadata": {},
     "output_type": "execute_result"
    }
   ],
   "source": [
    "df_air_hpg_total_store_info.shape"
   ]
  },
  {
   "cell_type": "code",
   "execution_count": 219,
   "metadata": {},
   "outputs": [],
   "source": [
    "# df_hpg_reserve_air_total --> dataFrame Having both hpg & air restaurant's reserve visitor's data\n",
    "# df_air_hpg_total_store_info ---> dataFrame Having both hpg & air restaurant's store info, summing up 892 stores info"
   ]
  },
  {
   "cell_type": "code",
   "execution_count": 220,
   "metadata": {},
   "outputs": [
    {
     "data": {
      "text/html": [
       "<div>\n",
       "<style>\n",
       "    .dataframe thead tr:only-child th {\n",
       "        text-align: right;\n",
       "    }\n",
       "\n",
       "    .dataframe thead th {\n",
       "        text-align: left;\n",
       "    }\n",
       "\n",
       "    .dataframe tbody tr th {\n",
       "        vertical-align: top;\n",
       "    }\n",
       "</style>\n",
       "<table border=\"1\" class=\"dataframe\">\n",
       "  <thead>\n",
       "    <tr style=\"text-align: right;\">\n",
       "      <th></th>\n",
       "      <th>visit_datetime</th>\n",
       "      <th>reserve_datetime</th>\n",
       "      <th>reserve_visitors</th>\n",
       "      <th>air_store_id</th>\n",
       "      <th>visit_date</th>\n",
       "      <th>holiday_flg</th>\n",
       "      <th>day_of_week</th>\n",
       "    </tr>\n",
       "  </thead>\n",
       "  <tbody>\n",
       "    <tr>\n",
       "      <th>0</th>\n",
       "      <td>2016-01-01 19:00:00</td>\n",
       "      <td>2016-01-01 15:00:00</td>\n",
       "      <td>4</td>\n",
       "      <td>air_db80363d35f10926</td>\n",
       "      <td>2016-01-01</td>\n",
       "      <td>1</td>\n",
       "      <td>Friday</td>\n",
       "    </tr>\n",
       "    <tr>\n",
       "      <th>1</th>\n",
       "      <td>2016-01-02 19:00:00</td>\n",
       "      <td>2016-01-02 14:00:00</td>\n",
       "      <td>2</td>\n",
       "      <td>air_db80363d35f10926</td>\n",
       "      <td>2016-01-02</td>\n",
       "      <td>1</td>\n",
       "      <td>Saturday</td>\n",
       "    </tr>\n",
       "    <tr>\n",
       "      <th>2</th>\n",
       "      <td>2016-01-03 18:00:00</td>\n",
       "      <td>2016-01-02 20:00:00</td>\n",
       "      <td>6</td>\n",
       "      <td>air_db80363d35f10926</td>\n",
       "      <td>2016-01-03</td>\n",
       "      <td>1</td>\n",
       "      <td>Sunday</td>\n",
       "    </tr>\n",
       "    <tr>\n",
       "      <th>3</th>\n",
       "      <td>2016-01-06 20:00:00</td>\n",
       "      <td>2016-01-04 22:00:00</td>\n",
       "      <td>3</td>\n",
       "      <td>air_db80363d35f10926</td>\n",
       "      <td>2016-01-06</td>\n",
       "      <td>0</td>\n",
       "      <td>Wednesday</td>\n",
       "    </tr>\n",
       "    <tr>\n",
       "      <th>4</th>\n",
       "      <td>2016-01-11 18:00:00</td>\n",
       "      <td>2016-01-11 14:00:00</td>\n",
       "      <td>2</td>\n",
       "      <td>air_db80363d35f10926</td>\n",
       "      <td>2016-01-11</td>\n",
       "      <td>1</td>\n",
       "      <td>Monday</td>\n",
       "    </tr>\n",
       "  </tbody>\n",
       "</table>\n",
       "</div>"
      ],
      "text/plain": [
       "       visit_datetime    reserve_datetime  reserve_visitors  \\\n",
       "0 2016-01-01 19:00:00 2016-01-01 15:00:00                 4   \n",
       "1 2016-01-02 19:00:00 2016-01-02 14:00:00                 2   \n",
       "2 2016-01-03 18:00:00 2016-01-02 20:00:00                 6   \n",
       "3 2016-01-06 20:00:00 2016-01-04 22:00:00                 3   \n",
       "4 2016-01-11 18:00:00 2016-01-11 14:00:00                 2   \n",
       "\n",
       "           air_store_id  visit_date  holiday_flg day_of_week  \n",
       "0  air_db80363d35f10926  2016-01-01            1      Friday  \n",
       "1  air_db80363d35f10926  2016-01-02            1    Saturday  \n",
       "2  air_db80363d35f10926  2016-01-03            1      Sunday  \n",
       "3  air_db80363d35f10926  2016-01-06            0   Wednesday  \n",
       "4  air_db80363d35f10926  2016-01-11            1      Monday  "
      ]
     },
     "execution_count": 220,
     "metadata": {},
     "output_type": "execute_result"
    }
   ],
   "source": [
    "df_hpg_reserve_air_mapped.head()"
   ]
  },
  {
   "cell_type": "code",
   "execution_count": 221,
   "metadata": {},
   "outputs": [
    {
     "data": {
      "text/html": [
       "<div>\n",
       "<style>\n",
       "    .dataframe thead tr:only-child th {\n",
       "        text-align: right;\n",
       "    }\n",
       "\n",
       "    .dataframe thead th {\n",
       "        text-align: left;\n",
       "    }\n",
       "\n",
       "    .dataframe tbody tr th {\n",
       "        vertical-align: top;\n",
       "    }\n",
       "</style>\n",
       "<table border=\"1\" class=\"dataframe\">\n",
       "  <thead>\n",
       "    <tr style=\"text-align: right;\">\n",
       "      <th></th>\n",
       "      <th>air_store_id</th>\n",
       "      <th>day_of_week</th>\n",
       "      <th>holiday_flg</th>\n",
       "      <th>reserve_datetime</th>\n",
       "      <th>reserve_visitors</th>\n",
       "      <th>visit_date</th>\n",
       "      <th>visit_datetime</th>\n",
       "    </tr>\n",
       "  </thead>\n",
       "  <tbody>\n",
       "    <tr>\n",
       "      <th>0</th>\n",
       "      <td>air_db80363d35f10926</td>\n",
       "      <td>Friday</td>\n",
       "      <td>1</td>\n",
       "      <td>2016-01-01 15:00:00</td>\n",
       "      <td>4</td>\n",
       "      <td>2016-01-01</td>\n",
       "      <td>2016-01-01 19:00:00</td>\n",
       "    </tr>\n",
       "    <tr>\n",
       "      <th>1</th>\n",
       "      <td>air_db80363d35f10926</td>\n",
       "      <td>Saturday</td>\n",
       "      <td>1</td>\n",
       "      <td>2016-01-02 14:00:00</td>\n",
       "      <td>2</td>\n",
       "      <td>2016-01-02</td>\n",
       "      <td>2016-01-02 19:00:00</td>\n",
       "    </tr>\n",
       "    <tr>\n",
       "      <th>2</th>\n",
       "      <td>air_db80363d35f10926</td>\n",
       "      <td>Sunday</td>\n",
       "      <td>1</td>\n",
       "      <td>2016-01-02 20:00:00</td>\n",
       "      <td>6</td>\n",
       "      <td>2016-01-03</td>\n",
       "      <td>2016-01-03 18:00:00</td>\n",
       "    </tr>\n",
       "    <tr>\n",
       "      <th>3</th>\n",
       "      <td>air_db80363d35f10926</td>\n",
       "      <td>Wednesday</td>\n",
       "      <td>0</td>\n",
       "      <td>2016-01-04 22:00:00</td>\n",
       "      <td>3</td>\n",
       "      <td>2016-01-06</td>\n",
       "      <td>2016-01-06 20:00:00</td>\n",
       "    </tr>\n",
       "    <tr>\n",
       "      <th>4</th>\n",
       "      <td>air_db80363d35f10926</td>\n",
       "      <td>Monday</td>\n",
       "      <td>1</td>\n",
       "      <td>2016-01-11 14:00:00</td>\n",
       "      <td>2</td>\n",
       "      <td>2016-01-11</td>\n",
       "      <td>2016-01-11 18:00:00</td>\n",
       "    </tr>\n",
       "  </tbody>\n",
       "</table>\n",
       "</div>"
      ],
      "text/plain": [
       "           air_store_id day_of_week  holiday_flg    reserve_datetime  \\\n",
       "0  air_db80363d35f10926      Friday            1 2016-01-01 15:00:00   \n",
       "1  air_db80363d35f10926    Saturday            1 2016-01-02 14:00:00   \n",
       "2  air_db80363d35f10926      Sunday            1 2016-01-02 20:00:00   \n",
       "3  air_db80363d35f10926   Wednesday            0 2016-01-04 22:00:00   \n",
       "4  air_db80363d35f10926      Monday            1 2016-01-11 14:00:00   \n",
       "\n",
       "   reserve_visitors  visit_date      visit_datetime  \n",
       "0                 4  2016-01-01 2016-01-01 19:00:00  \n",
       "1                 2  2016-01-02 2016-01-02 19:00:00  \n",
       "2                 6  2016-01-03 2016-01-03 18:00:00  \n",
       "3                 3  2016-01-06 2016-01-06 20:00:00  \n",
       "4                 2  2016-01-11 2016-01-11 18:00:00  "
      ]
     },
     "execution_count": 221,
     "metadata": {},
     "output_type": "execute_result"
    }
   ],
   "source": [
    "df_hpg_reserve_air_total.head()"
   ]
  },
  {
   "cell_type": "code",
   "execution_count": 222,
   "metadata": {},
   "outputs": [
    {
     "data": {
      "text/html": [
       "<div>\n",
       "<style>\n",
       "    .dataframe thead tr:only-child th {\n",
       "        text-align: right;\n",
       "    }\n",
       "\n",
       "    .dataframe thead th {\n",
       "        text-align: left;\n",
       "    }\n",
       "\n",
       "    .dataframe tbody tr th {\n",
       "        vertical-align: top;\n",
       "    }\n",
       "</style>\n",
       "<table border=\"1\" class=\"dataframe\">\n",
       "  <thead>\n",
       "    <tr style=\"text-align: right;\">\n",
       "      <th></th>\n",
       "      <th>air_area_name</th>\n",
       "      <th>air_genre_name</th>\n",
       "      <th>air_store_id</th>\n",
       "      <th>latitude</th>\n",
       "      <th>longitude</th>\n",
       "    </tr>\n",
       "  </thead>\n",
       "  <tbody>\n",
       "    <tr>\n",
       "      <th>0</th>\n",
       "      <td>Hyōgo-ken Kōbe-shi Kumoidōri</td>\n",
       "      <td>Italian/French</td>\n",
       "      <td>air_0f0cdeee6c9bf3d7</td>\n",
       "      <td>34.695124</td>\n",
       "      <td>135.197852</td>\n",
       "    </tr>\n",
       "    <tr>\n",
       "      <th>1</th>\n",
       "      <td>Hyōgo-ken Kōbe-shi Kumoidōri</td>\n",
       "      <td>Italian/French</td>\n",
       "      <td>air_7cc17a324ae5c7dc</td>\n",
       "      <td>34.695124</td>\n",
       "      <td>135.197852</td>\n",
       "    </tr>\n",
       "    <tr>\n",
       "      <th>2</th>\n",
       "      <td>Hyōgo-ken Kōbe-shi Kumoidōri</td>\n",
       "      <td>Italian/French</td>\n",
       "      <td>air_fee8dcf4d619598e</td>\n",
       "      <td>34.695124</td>\n",
       "      <td>135.197852</td>\n",
       "    </tr>\n",
       "    <tr>\n",
       "      <th>3</th>\n",
       "      <td>Hyōgo-ken Kōbe-shi Kumoidōri</td>\n",
       "      <td>Italian/French</td>\n",
       "      <td>air_a17f0778617c76e2</td>\n",
       "      <td>34.695124</td>\n",
       "      <td>135.197852</td>\n",
       "    </tr>\n",
       "    <tr>\n",
       "      <th>4</th>\n",
       "      <td>Tōkyō-to Minato-ku Shibakōen</td>\n",
       "      <td>Italian/French</td>\n",
       "      <td>air_83db5aff8f50478e</td>\n",
       "      <td>35.658068</td>\n",
       "      <td>139.751599</td>\n",
       "    </tr>\n",
       "  </tbody>\n",
       "</table>\n",
       "</div>"
      ],
      "text/plain": [
       "                  air_area_name  air_genre_name          air_store_id  \\\n",
       "0  Hyōgo-ken Kōbe-shi Kumoidōri  Italian/French  air_0f0cdeee6c9bf3d7   \n",
       "1  Hyōgo-ken Kōbe-shi Kumoidōri  Italian/French  air_7cc17a324ae5c7dc   \n",
       "2  Hyōgo-ken Kōbe-shi Kumoidōri  Italian/French  air_fee8dcf4d619598e   \n",
       "3  Hyōgo-ken Kōbe-shi Kumoidōri  Italian/French  air_a17f0778617c76e2   \n",
       "4  Tōkyō-to Minato-ku Shibakōen  Italian/French  air_83db5aff8f50478e   \n",
       "\n",
       "    latitude   longitude  \n",
       "0  34.695124  135.197852  \n",
       "1  34.695124  135.197852  \n",
       "2  34.695124  135.197852  \n",
       "3  34.695124  135.197852  \n",
       "4  35.658068  139.751599  "
      ]
     },
     "execution_count": 222,
     "metadata": {},
     "output_type": "execute_result"
    }
   ],
   "source": [
    "df_air_hpg_total_store_info.head()"
   ]
  },
  {
   "cell_type": "code",
   "execution_count": 223,
   "metadata": {},
   "outputs": [
    {
     "data": {
      "text/html": [
       "<div>\n",
       "<style>\n",
       "    .dataframe thead tr:only-child th {\n",
       "        text-align: right;\n",
       "    }\n",
       "\n",
       "    .dataframe thead th {\n",
       "        text-align: left;\n",
       "    }\n",
       "\n",
       "    .dataframe tbody tr th {\n",
       "        vertical-align: top;\n",
       "    }\n",
       "</style>\n",
       "<table border=\"1\" class=\"dataframe\">\n",
       "  <thead>\n",
       "    <tr style=\"text-align: right;\">\n",
       "      <th></th>\n",
       "      <th>air_area_name</th>\n",
       "      <th>air_genre_name</th>\n",
       "      <th>air_store_id</th>\n",
       "      <th>latitude</th>\n",
       "      <th>longitude</th>\n",
       "    </tr>\n",
       "  </thead>\n",
       "  <tbody>\n",
       "    <tr>\n",
       "      <th>0</th>\n",
       "      <td>Hyōgo-ken Kōbe-shi Kumoidōri</td>\n",
       "      <td>Italian/French</td>\n",
       "      <td>air_0f0cdeee6c9bf3d7</td>\n",
       "      <td>34.695124</td>\n",
       "      <td>135.197852</td>\n",
       "    </tr>\n",
       "    <tr>\n",
       "      <th>1</th>\n",
       "      <td>Hyōgo-ken Kōbe-shi Kumoidōri</td>\n",
       "      <td>Italian/French</td>\n",
       "      <td>air_7cc17a324ae5c7dc</td>\n",
       "      <td>34.695124</td>\n",
       "      <td>135.197852</td>\n",
       "    </tr>\n",
       "    <tr>\n",
       "      <th>2</th>\n",
       "      <td>Hyōgo-ken Kōbe-shi Kumoidōri</td>\n",
       "      <td>Italian/French</td>\n",
       "      <td>air_fee8dcf4d619598e</td>\n",
       "      <td>34.695124</td>\n",
       "      <td>135.197852</td>\n",
       "    </tr>\n",
       "    <tr>\n",
       "      <th>3</th>\n",
       "      <td>Hyōgo-ken Kōbe-shi Kumoidōri</td>\n",
       "      <td>Italian/French</td>\n",
       "      <td>air_a17f0778617c76e2</td>\n",
       "      <td>34.695124</td>\n",
       "      <td>135.197852</td>\n",
       "    </tr>\n",
       "    <tr>\n",
       "      <th>4</th>\n",
       "      <td>Tōkyō-to Minato-ku Shibakōen</td>\n",
       "      <td>Italian/French</td>\n",
       "      <td>air_83db5aff8f50478e</td>\n",
       "      <td>35.658068</td>\n",
       "      <td>139.751599</td>\n",
       "    </tr>\n",
       "  </tbody>\n",
       "</table>\n",
       "</div>"
      ],
      "text/plain": [
       "                  air_area_name  air_genre_name          air_store_id  \\\n",
       "0  Hyōgo-ken Kōbe-shi Kumoidōri  Italian/French  air_0f0cdeee6c9bf3d7   \n",
       "1  Hyōgo-ken Kōbe-shi Kumoidōri  Italian/French  air_7cc17a324ae5c7dc   \n",
       "2  Hyōgo-ken Kōbe-shi Kumoidōri  Italian/French  air_fee8dcf4d619598e   \n",
       "3  Hyōgo-ken Kōbe-shi Kumoidōri  Italian/French  air_a17f0778617c76e2   \n",
       "4  Tōkyō-to Minato-ku Shibakōen  Italian/French  air_83db5aff8f50478e   \n",
       "\n",
       "    latitude   longitude  \n",
       "0  34.695124  135.197852  \n",
       "1  34.695124  135.197852  \n",
       "2  34.695124  135.197852  \n",
       "3  34.695124  135.197852  \n",
       "4  35.658068  139.751599  "
      ]
     },
     "execution_count": 223,
     "metadata": {},
     "output_type": "execute_result"
    }
   ],
   "source": [
    "#set index of df_air_hpg_total_store_info as air_store_id\n",
    "#df_air_hpg_total_store_info = df_air_hpg_total_store_info.set_index('air_store_id')\n",
    "df_air_hpg_total_store_info.head()"
   ]
  },
  {
   "cell_type": "code",
   "execution_count": 224,
   "metadata": {},
   "outputs": [
    {
     "data": {
      "text/html": [
       "<div>\n",
       "<style>\n",
       "    .dataframe thead tr:only-child th {\n",
       "        text-align: right;\n",
       "    }\n",
       "\n",
       "    .dataframe thead th {\n",
       "        text-align: left;\n",
       "    }\n",
       "\n",
       "    .dataframe tbody tr th {\n",
       "        vertical-align: top;\n",
       "    }\n",
       "</style>\n",
       "<table border=\"1\" class=\"dataframe\">\n",
       "  <thead>\n",
       "    <tr style=\"text-align: right;\">\n",
       "      <th></th>\n",
       "      <th>air_area_name</th>\n",
       "      <th>air_genre_name</th>\n",
       "      <th>air_store_id</th>\n",
       "      <th>latitude</th>\n",
       "      <th>longitude</th>\n",
       "      <th>visit_date</th>\n",
       "      <th>visitors</th>\n",
       "      <th>holiday_flg</th>\n",
       "      <th>day_of_week</th>\n",
       "    </tr>\n",
       "  </thead>\n",
       "  <tbody>\n",
       "    <tr>\n",
       "      <th>0</th>\n",
       "      <td>Hyōgo-ken Kōbe-shi Kumoidōri</td>\n",
       "      <td>Italian/French</td>\n",
       "      <td>air_0f0cdeee6c9bf3d7</td>\n",
       "      <td>34.695124</td>\n",
       "      <td>135.197852</td>\n",
       "      <td>2016-07-01</td>\n",
       "      <td>18</td>\n",
       "      <td>0</td>\n",
       "      <td>Friday</td>\n",
       "    </tr>\n",
       "    <tr>\n",
       "      <th>1</th>\n",
       "      <td>Hyōgo-ken Kōbe-shi Kumoidōri</td>\n",
       "      <td>Italian/French</td>\n",
       "      <td>air_0f0cdeee6c9bf3d7</td>\n",
       "      <td>34.695124</td>\n",
       "      <td>135.197852</td>\n",
       "      <td>2016-07-02</td>\n",
       "      <td>37</td>\n",
       "      <td>0</td>\n",
       "      <td>Saturday</td>\n",
       "    </tr>\n",
       "    <tr>\n",
       "      <th>2</th>\n",
       "      <td>Hyōgo-ken Kōbe-shi Kumoidōri</td>\n",
       "      <td>Italian/French</td>\n",
       "      <td>air_0f0cdeee6c9bf3d7</td>\n",
       "      <td>34.695124</td>\n",
       "      <td>135.197852</td>\n",
       "      <td>2016-07-03</td>\n",
       "      <td>20</td>\n",
       "      <td>0</td>\n",
       "      <td>Sunday</td>\n",
       "    </tr>\n",
       "    <tr>\n",
       "      <th>3</th>\n",
       "      <td>Hyōgo-ken Kōbe-shi Kumoidōri</td>\n",
       "      <td>Italian/French</td>\n",
       "      <td>air_0f0cdeee6c9bf3d7</td>\n",
       "      <td>34.695124</td>\n",
       "      <td>135.197852</td>\n",
       "      <td>2016-07-04</td>\n",
       "      <td>16</td>\n",
       "      <td>0</td>\n",
       "      <td>Monday</td>\n",
       "    </tr>\n",
       "    <tr>\n",
       "      <th>4</th>\n",
       "      <td>Hyōgo-ken Kōbe-shi Kumoidōri</td>\n",
       "      <td>Italian/French</td>\n",
       "      <td>air_0f0cdeee6c9bf3d7</td>\n",
       "      <td>34.695124</td>\n",
       "      <td>135.197852</td>\n",
       "      <td>2016-07-05</td>\n",
       "      <td>15</td>\n",
       "      <td>0</td>\n",
       "      <td>Tuesday</td>\n",
       "    </tr>\n",
       "  </tbody>\n",
       "</table>\n",
       "</div>"
      ],
      "text/plain": [
       "                  air_area_name  air_genre_name          air_store_id  \\\n",
       "0  Hyōgo-ken Kōbe-shi Kumoidōri  Italian/French  air_0f0cdeee6c9bf3d7   \n",
       "1  Hyōgo-ken Kōbe-shi Kumoidōri  Italian/French  air_0f0cdeee6c9bf3d7   \n",
       "2  Hyōgo-ken Kōbe-shi Kumoidōri  Italian/French  air_0f0cdeee6c9bf3d7   \n",
       "3  Hyōgo-ken Kōbe-shi Kumoidōri  Italian/French  air_0f0cdeee6c9bf3d7   \n",
       "4  Hyōgo-ken Kōbe-shi Kumoidōri  Italian/French  air_0f0cdeee6c9bf3d7   \n",
       "\n",
       "    latitude   longitude visit_date  visitors  holiday_flg day_of_week  \n",
       "0  34.695124  135.197852 2016-07-01        18            0      Friday  \n",
       "1  34.695124  135.197852 2016-07-02        37            0    Saturday  \n",
       "2  34.695124  135.197852 2016-07-03        20            0      Sunday  \n",
       "3  34.695124  135.197852 2016-07-04        16            0      Monday  \n",
       "4  34.695124  135.197852 2016-07-05        15            0     Tuesday  "
      ]
     },
     "execution_count": 224,
     "metadata": {},
     "output_type": "execute_result"
    }
   ],
   "source": [
    "#Merge df_air_hpg_total_store_info, df_air_visit_data to include latitude, longitude, genre, location\n",
    "df_air_visit_train = pd.merge(df_air_hpg_total_store_info,df_air_visit_data,on='air_store_id',how='inner')\n",
    "df_air_visit_train.head()"
   ]
  },
  {
   "cell_type": "code",
   "execution_count": 225,
   "metadata": {},
   "outputs": [],
   "source": [
    "#Adding time difference between reservation time & visiting time as a feature\n",
    "df_hpg_reserve_air_total['time_diff'] = df_hpg_reserve_air_total['visit_datetime'].dt.date - df_hpg_reserve_air_total['reserve_datetime'].dt.date\n",
    "df_hpg_reserve_air_total['time_diff'] = df_hpg_reserve_air_total['time_diff'].dt.days"
   ]
  },
  {
   "cell_type": "code",
   "execution_count": 226,
   "metadata": {},
   "outputs": [],
   "source": [
    "df_hpg_reserve_air_total = pd.merge(df_air_hpg_total_store_info,df_hpg_reserve_air_total,on='air_store_id',how='inner')"
   ]
  },
  {
   "cell_type": "code",
   "execution_count": 227,
   "metadata": {},
   "outputs": [
    {
     "data": {
      "text/html": [
       "<div>\n",
       "<style>\n",
       "    .dataframe thead tr:only-child th {\n",
       "        text-align: right;\n",
       "    }\n",
       "\n",
       "    .dataframe thead th {\n",
       "        text-align: left;\n",
       "    }\n",
       "\n",
       "    .dataframe tbody tr th {\n",
       "        vertical-align: top;\n",
       "    }\n",
       "</style>\n",
       "<table border=\"1\" class=\"dataframe\">\n",
       "  <thead>\n",
       "    <tr style=\"text-align: right;\">\n",
       "      <th></th>\n",
       "      <th>air_area_name</th>\n",
       "      <th>air_genre_name</th>\n",
       "      <th>air_store_id</th>\n",
       "      <th>latitude</th>\n",
       "      <th>longitude</th>\n",
       "    </tr>\n",
       "  </thead>\n",
       "  <tbody>\n",
       "    <tr>\n",
       "      <th>0</th>\n",
       "      <td>Hyōgo-ken Kōbe-shi Kumoidōri</td>\n",
       "      <td>Italian/French</td>\n",
       "      <td>air_0f0cdeee6c9bf3d7</td>\n",
       "      <td>34.695124</td>\n",
       "      <td>135.197852</td>\n",
       "    </tr>\n",
       "    <tr>\n",
       "      <th>1</th>\n",
       "      <td>Hyōgo-ken Kōbe-shi Kumoidōri</td>\n",
       "      <td>Italian/French</td>\n",
       "      <td>air_7cc17a324ae5c7dc</td>\n",
       "      <td>34.695124</td>\n",
       "      <td>135.197852</td>\n",
       "    </tr>\n",
       "    <tr>\n",
       "      <th>2</th>\n",
       "      <td>Hyōgo-ken Kōbe-shi Kumoidōri</td>\n",
       "      <td>Italian/French</td>\n",
       "      <td>air_fee8dcf4d619598e</td>\n",
       "      <td>34.695124</td>\n",
       "      <td>135.197852</td>\n",
       "    </tr>\n",
       "    <tr>\n",
       "      <th>3</th>\n",
       "      <td>Hyōgo-ken Kōbe-shi Kumoidōri</td>\n",
       "      <td>Italian/French</td>\n",
       "      <td>air_a17f0778617c76e2</td>\n",
       "      <td>34.695124</td>\n",
       "      <td>135.197852</td>\n",
       "    </tr>\n",
       "    <tr>\n",
       "      <th>4</th>\n",
       "      <td>Tōkyō-to Minato-ku Shibakōen</td>\n",
       "      <td>Italian/French</td>\n",
       "      <td>air_83db5aff8f50478e</td>\n",
       "      <td>35.658068</td>\n",
       "      <td>139.751599</td>\n",
       "    </tr>\n",
       "  </tbody>\n",
       "</table>\n",
       "</div>"
      ],
      "text/plain": [
       "                  air_area_name  air_genre_name          air_store_id  \\\n",
       "0  Hyōgo-ken Kōbe-shi Kumoidōri  Italian/French  air_0f0cdeee6c9bf3d7   \n",
       "1  Hyōgo-ken Kōbe-shi Kumoidōri  Italian/French  air_7cc17a324ae5c7dc   \n",
       "2  Hyōgo-ken Kōbe-shi Kumoidōri  Italian/French  air_fee8dcf4d619598e   \n",
       "3  Hyōgo-ken Kōbe-shi Kumoidōri  Italian/French  air_a17f0778617c76e2   \n",
       "4  Tōkyō-to Minato-ku Shibakōen  Italian/French  air_83db5aff8f50478e   \n",
       "\n",
       "    latitude   longitude  \n",
       "0  34.695124  135.197852  \n",
       "1  34.695124  135.197852  \n",
       "2  34.695124  135.197852  \n",
       "3  34.695124  135.197852  \n",
       "4  35.658068  139.751599  "
      ]
     },
     "execution_count": 227,
     "metadata": {},
     "output_type": "execute_result"
    }
   ],
   "source": [
    "df_air_hpg_total_store_info.head()"
   ]
  },
  {
   "cell_type": "code",
   "execution_count": 228,
   "metadata": {},
   "outputs": [
    {
     "data": {
      "text/html": [
       "<div>\n",
       "<style>\n",
       "    .dataframe thead tr:only-child th {\n",
       "        text-align: right;\n",
       "    }\n",
       "\n",
       "    .dataframe thead th {\n",
       "        text-align: left;\n",
       "    }\n",
       "\n",
       "    .dataframe tbody tr th {\n",
       "        vertical-align: top;\n",
       "    }\n",
       "</style>\n",
       "<table border=\"1\" class=\"dataframe\">\n",
       "  <thead>\n",
       "    <tr style=\"text-align: right;\">\n",
       "      <th></th>\n",
       "      <th>air_area_name</th>\n",
       "      <th>air_genre_name</th>\n",
       "      <th>air_store_id</th>\n",
       "      <th>latitude</th>\n",
       "      <th>longitude</th>\n",
       "      <th>day_of_week</th>\n",
       "      <th>holiday_flg</th>\n",
       "      <th>reserve_datetime</th>\n",
       "      <th>reserve_visitors</th>\n",
       "      <th>visit_date</th>\n",
       "      <th>visit_datetime</th>\n",
       "      <th>time_diff</th>\n",
       "    </tr>\n",
       "  </thead>\n",
       "  <tbody>\n",
       "    <tr>\n",
       "      <th>0</th>\n",
       "      <td>Hyōgo-ken Kōbe-shi Kumoidōri</td>\n",
       "      <td>Italian/French</td>\n",
       "      <td>air_0f0cdeee6c9bf3d7</td>\n",
       "      <td>34.695124</td>\n",
       "      <td>135.197852</td>\n",
       "      <td>Friday</td>\n",
       "      <td>0</td>\n",
       "      <td>2016-06-16 20:00:00</td>\n",
       "      <td>3</td>\n",
       "      <td>2016-07-01</td>\n",
       "      <td>2016-07-01 18:00:00</td>\n",
       "      <td>15</td>\n",
       "    </tr>\n",
       "    <tr>\n",
       "      <th>1</th>\n",
       "      <td>Hyōgo-ken Kōbe-shi Kumoidōri</td>\n",
       "      <td>Italian/French</td>\n",
       "      <td>air_0f0cdeee6c9bf3d7</td>\n",
       "      <td>34.695124</td>\n",
       "      <td>135.197852</td>\n",
       "      <td>Monday</td>\n",
       "      <td>0</td>\n",
       "      <td>2016-07-04 17:00:00</td>\n",
       "      <td>2</td>\n",
       "      <td>2016-07-04</td>\n",
       "      <td>2016-07-04 17:00:00</td>\n",
       "      <td>0</td>\n",
       "    </tr>\n",
       "    <tr>\n",
       "      <th>2</th>\n",
       "      <td>Hyōgo-ken Kōbe-shi Kumoidōri</td>\n",
       "      <td>Italian/French</td>\n",
       "      <td>air_0f0cdeee6c9bf3d7</td>\n",
       "      <td>34.695124</td>\n",
       "      <td>135.197852</td>\n",
       "      <td>Monday</td>\n",
       "      <td>0</td>\n",
       "      <td>2016-07-01 20:00:00</td>\n",
       "      <td>8</td>\n",
       "      <td>2016-07-04</td>\n",
       "      <td>2016-07-04 20:00:00</td>\n",
       "      <td>3</td>\n",
       "    </tr>\n",
       "    <tr>\n",
       "      <th>3</th>\n",
       "      <td>Hyōgo-ken Kōbe-shi Kumoidōri</td>\n",
       "      <td>Italian/French</td>\n",
       "      <td>air_0f0cdeee6c9bf3d7</td>\n",
       "      <td>34.695124</td>\n",
       "      <td>135.197852</td>\n",
       "      <td>Wednesday</td>\n",
       "      <td>0</td>\n",
       "      <td>2016-07-05 20:00:00</td>\n",
       "      <td>2</td>\n",
       "      <td>2016-07-06</td>\n",
       "      <td>2016-07-06 19:00:00</td>\n",
       "      <td>1</td>\n",
       "    </tr>\n",
       "    <tr>\n",
       "      <th>4</th>\n",
       "      <td>Hyōgo-ken Kōbe-shi Kumoidōri</td>\n",
       "      <td>Italian/French</td>\n",
       "      <td>air_0f0cdeee6c9bf3d7</td>\n",
       "      <td>34.695124</td>\n",
       "      <td>135.197852</td>\n",
       "      <td>Wednesday</td>\n",
       "      <td>0</td>\n",
       "      <td>2016-07-04 14:00:00</td>\n",
       "      <td>5</td>\n",
       "      <td>2016-07-06</td>\n",
       "      <td>2016-07-06 19:00:00</td>\n",
       "      <td>2</td>\n",
       "    </tr>\n",
       "  </tbody>\n",
       "</table>\n",
       "</div>"
      ],
      "text/plain": [
       "                  air_area_name  air_genre_name          air_store_id  \\\n",
       "0  Hyōgo-ken Kōbe-shi Kumoidōri  Italian/French  air_0f0cdeee6c9bf3d7   \n",
       "1  Hyōgo-ken Kōbe-shi Kumoidōri  Italian/French  air_0f0cdeee6c9bf3d7   \n",
       "2  Hyōgo-ken Kōbe-shi Kumoidōri  Italian/French  air_0f0cdeee6c9bf3d7   \n",
       "3  Hyōgo-ken Kōbe-shi Kumoidōri  Italian/French  air_0f0cdeee6c9bf3d7   \n",
       "4  Hyōgo-ken Kōbe-shi Kumoidōri  Italian/French  air_0f0cdeee6c9bf3d7   \n",
       "\n",
       "    latitude   longitude day_of_week  holiday_flg    reserve_datetime  \\\n",
       "0  34.695124  135.197852      Friday            0 2016-06-16 20:00:00   \n",
       "1  34.695124  135.197852      Monday            0 2016-07-04 17:00:00   \n",
       "2  34.695124  135.197852      Monday            0 2016-07-01 20:00:00   \n",
       "3  34.695124  135.197852   Wednesday            0 2016-07-05 20:00:00   \n",
       "4  34.695124  135.197852   Wednesday            0 2016-07-04 14:00:00   \n",
       "\n",
       "   reserve_visitors  visit_date      visit_datetime  time_diff  \n",
       "0                 3  2016-07-01 2016-07-01 18:00:00         15  \n",
       "1                 2  2016-07-04 2016-07-04 17:00:00          0  \n",
       "2                 8  2016-07-04 2016-07-04 20:00:00          3  \n",
       "3                 2  2016-07-06 2016-07-06 19:00:00          1  \n",
       "4                 5  2016-07-06 2016-07-06 19:00:00          2  "
      ]
     },
     "execution_count": 228,
     "metadata": {},
     "output_type": "execute_result"
    }
   ],
   "source": [
    "df_hpg_reserve_air_total.head()"
   ]
  },
  {
   "cell_type": "code",
   "execution_count": 229,
   "metadata": {},
   "outputs": [
    {
     "data": {
      "text/html": [
       "<div>\n",
       "<style>\n",
       "    .dataframe thead tr:only-child th {\n",
       "        text-align: right;\n",
       "    }\n",
       "\n",
       "    .dataframe thead th {\n",
       "        text-align: left;\n",
       "    }\n",
       "\n",
       "    .dataframe tbody tr th {\n",
       "        vertical-align: top;\n",
       "    }\n",
       "</style>\n",
       "<table border=\"1\" class=\"dataframe\">\n",
       "  <thead>\n",
       "    <tr style=\"text-align: right;\">\n",
       "      <th></th>\n",
       "      <th>air_area_name</th>\n",
       "      <th>air_genre_name</th>\n",
       "      <th>air_store_id</th>\n",
       "      <th>latitude</th>\n",
       "      <th>longitude</th>\n",
       "      <th>day_of_week</th>\n",
       "      <th>holiday_flg</th>\n",
       "      <th>reserve_datetime</th>\n",
       "      <th>reserve_visitors</th>\n",
       "      <th>visit_date</th>\n",
       "      <th>visit_datetime</th>\n",
       "      <th>time_diff</th>\n",
       "    </tr>\n",
       "  </thead>\n",
       "  <tbody>\n",
       "    <tr>\n",
       "      <th>127281</th>\n",
       "      <td>Hokkaidō Sapporo-shi Minami 4 Jōnishi</td>\n",
       "      <td>Party</td>\n",
       "      <td>air_7514d90009613cd6</td>\n",
       "      <td>43.055047</td>\n",
       "      <td>141.353236</td>\n",
       "      <td>Saturday</td>\n",
       "      <td>0</td>\n",
       "      <td>2017-03-23 12:00:00</td>\n",
       "      <td>24</td>\n",
       "      <td>2017-04-01</td>\n",
       "      <td>2017-04-01 00:00:00</td>\n",
       "      <td>9</td>\n",
       "    </tr>\n",
       "    <tr>\n",
       "      <th>127282</th>\n",
       "      <td>Hokkaidō Sapporo-shi Minami 4 Jōnishi</td>\n",
       "      <td>Party</td>\n",
       "      <td>air_7514d90009613cd6</td>\n",
       "      <td>43.055047</td>\n",
       "      <td>141.353236</td>\n",
       "      <td>Saturday</td>\n",
       "      <td>0</td>\n",
       "      <td>2017-03-28 16:00:00</td>\n",
       "      <td>17</td>\n",
       "      <td>2017-04-01</td>\n",
       "      <td>2017-04-01 00:00:00</td>\n",
       "      <td>4</td>\n",
       "    </tr>\n",
       "    <tr>\n",
       "      <th>127283</th>\n",
       "      <td>Hokkaidō Sapporo-shi Minami 4 Jōnishi</td>\n",
       "      <td>Party</td>\n",
       "      <td>air_7514d90009613cd6</td>\n",
       "      <td>43.055047</td>\n",
       "      <td>141.353236</td>\n",
       "      <td>Tuesday</td>\n",
       "      <td>0</td>\n",
       "      <td>2017-03-15 10:00:00</td>\n",
       "      <td>20</td>\n",
       "      <td>2017-04-04</td>\n",
       "      <td>2017-04-04 01:00:00</td>\n",
       "      <td>20</td>\n",
       "    </tr>\n",
       "    <tr>\n",
       "      <th>127284</th>\n",
       "      <td>Hokkaidō Sapporo-shi Minami 4 Jōnishi</td>\n",
       "      <td>Party</td>\n",
       "      <td>air_7514d90009613cd6</td>\n",
       "      <td>43.055047</td>\n",
       "      <td>141.353236</td>\n",
       "      <td>Saturday</td>\n",
       "      <td>0</td>\n",
       "      <td>2017-03-17 14:00:00</td>\n",
       "      <td>17</td>\n",
       "      <td>2017-04-08</td>\n",
       "      <td>2017-04-08 00:00:00</td>\n",
       "      <td>22</td>\n",
       "    </tr>\n",
       "    <tr>\n",
       "      <th>127285</th>\n",
       "      <td>Hokkaidō Sapporo-shi Minami 4 Jōnishi</td>\n",
       "      <td>Party</td>\n",
       "      <td>air_7514d90009613cd6</td>\n",
       "      <td>43.055047</td>\n",
       "      <td>141.353236</td>\n",
       "      <td>Saturday</td>\n",
       "      <td>1</td>\n",
       "      <td>2017-04-18 17:00:00</td>\n",
       "      <td>27</td>\n",
       "      <td>2017-04-29</td>\n",
       "      <td>2017-04-29 02:00:00</td>\n",
       "      <td>11</td>\n",
       "    </tr>\n",
       "  </tbody>\n",
       "</table>\n",
       "</div>"
      ],
      "text/plain": [
       "                                air_area_name air_genre_name  \\\n",
       "127281  Hokkaidō Sapporo-shi Minami 4 Jōnishi          Party   \n",
       "127282  Hokkaidō Sapporo-shi Minami 4 Jōnishi          Party   \n",
       "127283  Hokkaidō Sapporo-shi Minami 4 Jōnishi          Party   \n",
       "127284  Hokkaidō Sapporo-shi Minami 4 Jōnishi          Party   \n",
       "127285  Hokkaidō Sapporo-shi Minami 4 Jōnishi          Party   \n",
       "\n",
       "                air_store_id   latitude   longitude day_of_week  holiday_flg  \\\n",
       "127281  air_7514d90009613cd6  43.055047  141.353236    Saturday            0   \n",
       "127282  air_7514d90009613cd6  43.055047  141.353236    Saturday            0   \n",
       "127283  air_7514d90009613cd6  43.055047  141.353236     Tuesday            0   \n",
       "127284  air_7514d90009613cd6  43.055047  141.353236    Saturday            0   \n",
       "127285  air_7514d90009613cd6  43.055047  141.353236    Saturday            1   \n",
       "\n",
       "          reserve_datetime  reserve_visitors  visit_date      visit_datetime  \\\n",
       "127281 2017-03-23 12:00:00                24  2017-04-01 2017-04-01 00:00:00   \n",
       "127282 2017-03-28 16:00:00                17  2017-04-01 2017-04-01 00:00:00   \n",
       "127283 2017-03-15 10:00:00                20  2017-04-04 2017-04-04 01:00:00   \n",
       "127284 2017-03-17 14:00:00                17  2017-04-08 2017-04-08 00:00:00   \n",
       "127285 2017-04-18 17:00:00                27  2017-04-29 2017-04-29 02:00:00   \n",
       "\n",
       "        time_diff  \n",
       "127281          9  \n",
       "127282          4  \n",
       "127283         20  \n",
       "127284         22  \n",
       "127285         11  "
      ]
     },
     "execution_count": 229,
     "metadata": {},
     "output_type": "execute_result"
    }
   ],
   "source": [
    "df_hpg_reserve_air_total.tail()"
   ]
  },
  {
   "cell_type": "markdown",
   "metadata": {},
   "source": [
    "### Clean Test set data "
   ]
  },
  {
   "cell_type": "code",
   "execution_count": 230,
   "metadata": {},
   "outputs": [
    {
     "data": {
      "text/html": [
       "<div>\n",
       "<style>\n",
       "    .dataframe thead tr:only-child th {\n",
       "        text-align: right;\n",
       "    }\n",
       "\n",
       "    .dataframe thead th {\n",
       "        text-align: left;\n",
       "    }\n",
       "\n",
       "    .dataframe tbody tr th {\n",
       "        vertical-align: top;\n",
       "    }\n",
       "</style>\n",
       "<table border=\"1\" class=\"dataframe\">\n",
       "  <thead>\n",
       "    <tr style=\"text-align: right;\">\n",
       "      <th></th>\n",
       "      <th>id</th>\n",
       "      <th>visitors</th>\n",
       "    </tr>\n",
       "  </thead>\n",
       "  <tbody>\n",
       "    <tr>\n",
       "      <th>0</th>\n",
       "      <td>air_00a91d42b08b08d9_2017-04-23</td>\n",
       "      <td>0</td>\n",
       "    </tr>\n",
       "    <tr>\n",
       "      <th>1</th>\n",
       "      <td>air_00a91d42b08b08d9_2017-04-24</td>\n",
       "      <td>0</td>\n",
       "    </tr>\n",
       "    <tr>\n",
       "      <th>2</th>\n",
       "      <td>air_00a91d42b08b08d9_2017-04-25</td>\n",
       "      <td>0</td>\n",
       "    </tr>\n",
       "    <tr>\n",
       "      <th>3</th>\n",
       "      <td>air_00a91d42b08b08d9_2017-04-26</td>\n",
       "      <td>0</td>\n",
       "    </tr>\n",
       "    <tr>\n",
       "      <th>4</th>\n",
       "      <td>air_00a91d42b08b08d9_2017-04-27</td>\n",
       "      <td>0</td>\n",
       "    </tr>\n",
       "  </tbody>\n",
       "</table>\n",
       "</div>"
      ],
      "text/plain": [
       "                                id  visitors\n",
       "0  air_00a91d42b08b08d9_2017-04-23         0\n",
       "1  air_00a91d42b08b08d9_2017-04-24         0\n",
       "2  air_00a91d42b08b08d9_2017-04-25         0\n",
       "3  air_00a91d42b08b08d9_2017-04-26         0\n",
       "4  air_00a91d42b08b08d9_2017-04-27         0"
      ]
     },
     "execution_count": 230,
     "metadata": {},
     "output_type": "execute_result"
    }
   ],
   "source": [
    "df_test_set.head()"
   ]
  },
  {
   "cell_type": "code",
   "execution_count": 231,
   "metadata": {},
   "outputs": [
    {
     "data": {
      "text/html": [
       "<div>\n",
       "<style>\n",
       "    .dataframe thead tr:only-child th {\n",
       "        text-align: right;\n",
       "    }\n",
       "\n",
       "    .dataframe thead th {\n",
       "        text-align: left;\n",
       "    }\n",
       "\n",
       "    .dataframe tbody tr th {\n",
       "        vertical-align: top;\n",
       "    }\n",
       "</style>\n",
       "<table border=\"1\" class=\"dataframe\">\n",
       "  <thead>\n",
       "    <tr style=\"text-align: right;\">\n",
       "      <th></th>\n",
       "      <th>id</th>\n",
       "      <th>visitors</th>\n",
       "      <th>air_store_id</th>\n",
       "      <th>visit_date</th>\n",
       "    </tr>\n",
       "  </thead>\n",
       "  <tbody>\n",
       "    <tr>\n",
       "      <th>0</th>\n",
       "      <td>air_00a91d42b08b08d9_2017-04-23</td>\n",
       "      <td>0</td>\n",
       "      <td>air_00a91d42b08b08d9</td>\n",
       "      <td>2017-04-23</td>\n",
       "    </tr>\n",
       "    <tr>\n",
       "      <th>1</th>\n",
       "      <td>air_00a91d42b08b08d9_2017-04-24</td>\n",
       "      <td>0</td>\n",
       "      <td>air_00a91d42b08b08d9</td>\n",
       "      <td>2017-04-24</td>\n",
       "    </tr>\n",
       "    <tr>\n",
       "      <th>2</th>\n",
       "      <td>air_00a91d42b08b08d9_2017-04-25</td>\n",
       "      <td>0</td>\n",
       "      <td>air_00a91d42b08b08d9</td>\n",
       "      <td>2017-04-25</td>\n",
       "    </tr>\n",
       "    <tr>\n",
       "      <th>3</th>\n",
       "      <td>air_00a91d42b08b08d9_2017-04-26</td>\n",
       "      <td>0</td>\n",
       "      <td>air_00a91d42b08b08d9</td>\n",
       "      <td>2017-04-26</td>\n",
       "    </tr>\n",
       "    <tr>\n",
       "      <th>4</th>\n",
       "      <td>air_00a91d42b08b08d9_2017-04-27</td>\n",
       "      <td>0</td>\n",
       "      <td>air_00a91d42b08b08d9</td>\n",
       "      <td>2017-04-27</td>\n",
       "    </tr>\n",
       "  </tbody>\n",
       "</table>\n",
       "</div>"
      ],
      "text/plain": [
       "                                id  visitors          air_store_id  visit_date\n",
       "0  air_00a91d42b08b08d9_2017-04-23         0  air_00a91d42b08b08d9  2017-04-23\n",
       "1  air_00a91d42b08b08d9_2017-04-24         0  air_00a91d42b08b08d9  2017-04-24\n",
       "2  air_00a91d42b08b08d9_2017-04-25         0  air_00a91d42b08b08d9  2017-04-25\n",
       "3  air_00a91d42b08b08d9_2017-04-26         0  air_00a91d42b08b08d9  2017-04-26\n",
       "4  air_00a91d42b08b08d9_2017-04-27         0  air_00a91d42b08b08d9  2017-04-27"
      ]
     },
     "execution_count": 231,
     "metadata": {},
     "output_type": "execute_result"
    }
   ],
   "source": [
    "#separate air_store_id & visit_date from id column of df_test_Set\n",
    "df_test_set['air_store_id'] = df_test_set['id'].map(lambda x : \"_\".join(x.split('_')[:2]))\n",
    "df_test_set['visit_date'] = df_test_set['id'].map(lambda x : \"_\".join(x.split('_')[2:]))\n",
    "df_test_set.head()"
   ]
  },
  {
   "cell_type": "code",
   "execution_count": 232,
   "metadata": {
    "scrolled": true
   },
   "outputs": [
    {
     "data": {
      "text/html": [
       "<div>\n",
       "<style>\n",
       "    .dataframe thead tr:only-child th {\n",
       "        text-align: right;\n",
       "    }\n",
       "\n",
       "    .dataframe thead th {\n",
       "        text-align: left;\n",
       "    }\n",
       "\n",
       "    .dataframe tbody tr th {\n",
       "        vertical-align: top;\n",
       "    }\n",
       "</style>\n",
       "<table border=\"1\" class=\"dataframe\">\n",
       "  <thead>\n",
       "    <tr style=\"text-align: right;\">\n",
       "      <th></th>\n",
       "      <th>id</th>\n",
       "      <th>visitors</th>\n",
       "      <th>air_store_id</th>\n",
       "      <th>visit_date</th>\n",
       "      <th>holiday_flg</th>\n",
       "      <th>day_of_week</th>\n",
       "    </tr>\n",
       "  </thead>\n",
       "  <tbody>\n",
       "    <tr>\n",
       "      <th>0</th>\n",
       "      <td>air_00a91d42b08b08d9_2017-04-23</td>\n",
       "      <td>0</td>\n",
       "      <td>air_00a91d42b08b08d9</td>\n",
       "      <td>2017-04-23</td>\n",
       "      <td>0</td>\n",
       "      <td>Sunday</td>\n",
       "    </tr>\n",
       "    <tr>\n",
       "      <th>1</th>\n",
       "      <td>air_00a91d42b08b08d9_2017-04-24</td>\n",
       "      <td>0</td>\n",
       "      <td>air_00a91d42b08b08d9</td>\n",
       "      <td>2017-04-24</td>\n",
       "      <td>0</td>\n",
       "      <td>Monday</td>\n",
       "    </tr>\n",
       "    <tr>\n",
       "      <th>2</th>\n",
       "      <td>air_00a91d42b08b08d9_2017-04-25</td>\n",
       "      <td>0</td>\n",
       "      <td>air_00a91d42b08b08d9</td>\n",
       "      <td>2017-04-25</td>\n",
       "      <td>0</td>\n",
       "      <td>Tuesday</td>\n",
       "    </tr>\n",
       "    <tr>\n",
       "      <th>3</th>\n",
       "      <td>air_00a91d42b08b08d9_2017-04-26</td>\n",
       "      <td>0</td>\n",
       "      <td>air_00a91d42b08b08d9</td>\n",
       "      <td>2017-04-26</td>\n",
       "      <td>0</td>\n",
       "      <td>Wednesday</td>\n",
       "    </tr>\n",
       "    <tr>\n",
       "      <th>4</th>\n",
       "      <td>air_00a91d42b08b08d9_2017-04-27</td>\n",
       "      <td>0</td>\n",
       "      <td>air_00a91d42b08b08d9</td>\n",
       "      <td>2017-04-27</td>\n",
       "      <td>0</td>\n",
       "      <td>Thursday</td>\n",
       "    </tr>\n",
       "  </tbody>\n",
       "</table>\n",
       "</div>"
      ],
      "text/plain": [
       "                                id  visitors          air_store_id visit_date  \\\n",
       "0  air_00a91d42b08b08d9_2017-04-23         0  air_00a91d42b08b08d9 2017-04-23   \n",
       "1  air_00a91d42b08b08d9_2017-04-24         0  air_00a91d42b08b08d9 2017-04-24   \n",
       "2  air_00a91d42b08b08d9_2017-04-25         0  air_00a91d42b08b08d9 2017-04-25   \n",
       "3  air_00a91d42b08b08d9_2017-04-26         0  air_00a91d42b08b08d9 2017-04-26   \n",
       "4  air_00a91d42b08b08d9_2017-04-27         0  air_00a91d42b08b08d9 2017-04-27   \n",
       "\n",
       "   holiday_flg day_of_week  \n",
       "0            0      Sunday  \n",
       "1            0      Monday  \n",
       "2            0     Tuesday  \n",
       "3            0   Wednesday  \n",
       "4            0    Thursday  "
      ]
     },
     "execution_count": 232,
     "metadata": {},
     "output_type": "execute_result"
    }
   ],
   "source": [
    "#creating holiday flag ,weekday column for df_test_set\n",
    "df_test_set['visit_date'] = pd.to_datetime(df_test_set['visit_date'])\n",
    "df_test_set['holiday_flg'] = df_test_set['visit_date'].apply(lambda x : df_date_info.loc[x]['holiday_flg'])\n",
    "df_test_set['day_of_week'] = df_test_set['visit_date'].apply(lambda x : df_date_info.loc[x]['day_of_week'])\n",
    "df_test_set.head()"
   ]
  },
  {
   "cell_type": "markdown",
   "metadata": {},
   "source": [
    "# Exploratory Data Analysis on Visitor data with and without reservations made"
   ]
  },
  {
   "cell_type": "markdown",
   "metadata": {},
   "source": [
    "#### Holiday Effect on reservations & visitors count"
   ]
  },
  {
   "cell_type": "markdown",
   "metadata": {},
   "source": [
    "#### Reservation count"
   ]
  },
  {
   "cell_type": "code",
   "execution_count": 233,
   "metadata": {},
   "outputs": [
    {
     "data": {
      "text/html": [
       "<div>\n",
       "<style>\n",
       "    .dataframe thead tr:only-child th {\n",
       "        text-align: right;\n",
       "    }\n",
       "\n",
       "    .dataframe thead th {\n",
       "        text-align: left;\n",
       "    }\n",
       "\n",
       "    .dataframe tbody tr th {\n",
       "        vertical-align: top;\n",
       "    }\n",
       "</style>\n",
       "<table border=\"1\" class=\"dataframe\">\n",
       "  <thead>\n",
       "    <tr style=\"text-align: right;\">\n",
       "      <th></th>\n",
       "      <th></th>\n",
       "      <th>latitude</th>\n",
       "      <th>longitude</th>\n",
       "      <th>reserve_visitors</th>\n",
       "      <th>time_diff</th>\n",
       "    </tr>\n",
       "    <tr>\n",
       "      <th>holiday_flg</th>\n",
       "      <th>day_of_week</th>\n",
       "      <th></th>\n",
       "      <th></th>\n",
       "      <th></th>\n",
       "      <th></th>\n",
       "    </tr>\n",
       "  </thead>\n",
       "  <tbody>\n",
       "    <tr>\n",
       "      <th rowspan=\"7\" valign=\"top\">0</th>\n",
       "      <th>Friday</th>\n",
       "      <td>9.308969e+05</td>\n",
       "      <td>3.504755e+06</td>\n",
       "      <td>126733</td>\n",
       "      <td>183734</td>\n",
       "    </tr>\n",
       "    <tr>\n",
       "      <th>Monday</th>\n",
       "      <td>3.485402e+05</td>\n",
       "      <td>1.315288e+06</td>\n",
       "      <td>44389</td>\n",
       "      <td>52333</td>\n",
       "    </tr>\n",
       "    <tr>\n",
       "      <th>Saturday</th>\n",
       "      <td>1.058648e+06</td>\n",
       "      <td>3.968128e+06</td>\n",
       "      <td>130903</td>\n",
       "      <td>213677</td>\n",
       "    </tr>\n",
       "    <tr>\n",
       "      <th>Sunday</th>\n",
       "      <td>4.844272e+05</td>\n",
       "      <td>1.835681e+06</td>\n",
       "      <td>58667</td>\n",
       "      <td>142007</td>\n",
       "    </tr>\n",
       "    <tr>\n",
       "      <th>Thursday</th>\n",
       "      <td>5.208879e+05</td>\n",
       "      <td>1.971772e+06</td>\n",
       "      <td>67075</td>\n",
       "      <td>125991</td>\n",
       "    </tr>\n",
       "    <tr>\n",
       "      <th>Tuesday</th>\n",
       "      <td>4.495620e+05</td>\n",
       "      <td>1.699078e+06</td>\n",
       "      <td>56339</td>\n",
       "      <td>99899</td>\n",
       "    </tr>\n",
       "    <tr>\n",
       "      <th>Wednesday</th>\n",
       "      <td>5.397778e+05</td>\n",
       "      <td>2.044356e+06</td>\n",
       "      <td>71371</td>\n",
       "      <td>143536</td>\n",
       "    </tr>\n",
       "    <tr>\n",
       "      <th rowspan=\"7\" valign=\"top\">1</th>\n",
       "      <th>Friday</th>\n",
       "      <td>7.697772e+04</td>\n",
       "      <td>2.880986e+05</td>\n",
       "      <td>8823</td>\n",
       "      <td>18641</td>\n",
       "    </tr>\n",
       "    <tr>\n",
       "      <th>Monday</th>\n",
       "      <td>4.918895e+04</td>\n",
       "      <td>1.841809e+05</td>\n",
       "      <td>5637</td>\n",
       "      <td>7118</td>\n",
       "    </tr>\n",
       "    <tr>\n",
       "      <th>Saturday</th>\n",
       "      <td>4.940339e+04</td>\n",
       "      <td>1.837638e+05</td>\n",
       "      <td>5681</td>\n",
       "      <td>9353</td>\n",
       "    </tr>\n",
       "    <tr>\n",
       "      <th>Sunday</th>\n",
       "      <td>1.776641e+04</td>\n",
       "      <td>6.646411e+04</td>\n",
       "      <td>2123</td>\n",
       "      <td>2599</td>\n",
       "    </tr>\n",
       "    <tr>\n",
       "      <th>Thursday</th>\n",
       "      <td>6.317796e+04</td>\n",
       "      <td>2.370748e+05</td>\n",
       "      <td>7501</td>\n",
       "      <td>13705</td>\n",
       "    </tr>\n",
       "    <tr>\n",
       "      <th>Tuesday</th>\n",
       "      <td>1.847429e+04</td>\n",
       "      <td>6.945985e+04</td>\n",
       "      <td>1917</td>\n",
       "      <td>2563</td>\n",
       "    </tr>\n",
       "    <tr>\n",
       "      <th>Wednesday</th>\n",
       "      <td>2.401647e+04</td>\n",
       "      <td>9.105115e+04</td>\n",
       "      <td>2413</td>\n",
       "      <td>4011</td>\n",
       "    </tr>\n",
       "  </tbody>\n",
       "</table>\n",
       "</div>"
      ],
      "text/plain": [
       "                             latitude     longitude  reserve_visitors  \\\n",
       "holiday_flg day_of_week                                                 \n",
       "0           Friday       9.308969e+05  3.504755e+06            126733   \n",
       "            Monday       3.485402e+05  1.315288e+06             44389   \n",
       "            Saturday     1.058648e+06  3.968128e+06            130903   \n",
       "            Sunday       4.844272e+05  1.835681e+06             58667   \n",
       "            Thursday     5.208879e+05  1.971772e+06             67075   \n",
       "            Tuesday      4.495620e+05  1.699078e+06             56339   \n",
       "            Wednesday    5.397778e+05  2.044356e+06             71371   \n",
       "1           Friday       7.697772e+04  2.880986e+05              8823   \n",
       "            Monday       4.918895e+04  1.841809e+05              5637   \n",
       "            Saturday     4.940339e+04  1.837638e+05              5681   \n",
       "            Sunday       1.776641e+04  6.646411e+04              2123   \n",
       "            Thursday     6.317796e+04  2.370748e+05              7501   \n",
       "            Tuesday      1.847429e+04  6.945985e+04              1917   \n",
       "            Wednesday    2.401647e+04  9.105115e+04              2413   \n",
       "\n",
       "                         time_diff  \n",
       "holiday_flg day_of_week             \n",
       "0           Friday          183734  \n",
       "            Monday           52333  \n",
       "            Saturday        213677  \n",
       "            Sunday          142007  \n",
       "            Thursday        125991  \n",
       "            Tuesday          99899  \n",
       "            Wednesday       143536  \n",
       "1           Friday           18641  \n",
       "            Monday            7118  \n",
       "            Saturday          9353  \n",
       "            Sunday            2599  \n",
       "            Thursday         13705  \n",
       "            Tuesday           2563  \n",
       "            Wednesday         4011  "
      ]
     },
     "execution_count": 233,
     "metadata": {},
     "output_type": "execute_result"
    }
   ],
   "source": [
    "df_hpg_reserve_air_total.groupby(['holiday_flg','day_of_week']).sum()\n",
    "#for holiday_flg = 0 (not a holiday) has more reserved visitors when compared to that of holiday(holiday_flg=1) for each weekday\n",
    "#It means there is a good amount of business in weekdays which aren't holidays.\n",
    "#interesting thing is though it's holiday or not; friday has highest number of customers in a week"
   ]
  },
  {
   "cell_type": "code",
   "execution_count": 234,
   "metadata": {},
   "outputs": [],
   "source": [
    "#change the type of holiday_flg, day_of_week \n",
    "df_hpg_reserve_air_total.holiday_flg = df_hpg_reserve_air_total.holiday_flg.astype('category')\n",
    "df_hpg_reserve_air_total.day_of_week = df_hpg_reserve_air_total.day_of_week.astype('category')"
   ]
  },
  {
   "cell_type": "code",
   "execution_count": 235,
   "metadata": {},
   "outputs": [],
   "source": [
    "#do the short form of calendar days, viz Firday : Fri\n",
    "df_hpg_reserve_air_total.day_of_week = df_hpg_reserve_air_total.day_of_week.map({\"Friday\":\"Fri\",\"Saturday\":\"Sat\",\"Sunday\":\"Sun\",\"Wednesday\":\"Wed\",\"Monday\":\"Mon\",\"Tuesday\":\"Tue\",\"Thursday\":\"Thu\"})"
   ]
  },
  {
   "cell_type": "code",
   "execution_count": 236,
   "metadata": {},
   "outputs": [
    {
     "data": {
      "image/png": "[encoded data removed]",
      "text/plain": [
       "<matplotlib.figure.Figure at 0x2894d57f518>"
      ]
     },
     "metadata": {},
     "output_type": "display_data"
    },
    {
     "data": {
      "image/png": "[encoded data removed]",
      "text/plain": [
       "<matplotlib.figure.Figure at 0x2894d5d13c8>"
      ]
     },
     "metadata": {},
     "output_type": "display_data"
    }
   ],
   "source": [
    "sns.set(style='whitegrid')\n",
    "sns.factorplot(data=df_hpg_reserve_air_total, x='day_of_week',y='reserve_visitors',hue='holiday_flg',kind='box',size=10)\n",
    "plt.title('Box Plot of holiday trend in reserve visitors')\n",
    "sns.factorplot(data=df_hpg_reserve_air_total, x='day_of_week',y='reserve_visitors',hue='holiday_flg',kind='bar',size=10)\n",
    "plt.title('Bar Plot holiday trend in reserve visitors')\n",
    "plt.show()"
   ]
  },
  {
   "cell_type": "code",
   "execution_count": 237,
   "metadata": {},
   "outputs": [
    {
     "data": {
      "image/png": "[encoded data removed]",
      "text/plain": [
       "<matplotlib.figure.Figure at 0x2894e04a048>"
      ]
     },
     "metadata": {},
     "output_type": "display_data"
    }
   ],
   "source": [
    "sns.pointplot(data=df_hpg_reserve_air_total, x='day_of_week',y='reserve_visitors',hue='holiday_flg',\n",
    "             palette = {0:\"g\",1:\"m\"},\n",
    "              markers=[\"^\", \"o\"], linestyles=[\"-\", \"--\"]\n",
    "             )\n",
    "plt.show()"
   ]
  },
  {
   "cell_type": "markdown",
   "metadata": {},
   "source": [
    "#### Visitor Count"
   ]
  },
  {
   "cell_type": "code",
   "execution_count": 238,
   "metadata": {},
   "outputs": [
    {
     "data": {
      "text/plain": [
       "holiday_flg  day_of_week\n",
       "0            Friday          973750\n",
       "             Monday          506964\n",
       "             Saturday       1082983\n",
       "             Sunday          753655\n",
       "             Thursday        701203\n",
       "             Tuesday         677909\n",
       "             Wednesday       749925\n",
       "1            Friday           49729\n",
       "             Monday           90953\n",
       "             Saturday         47349\n",
       "             Sunday           26790\n",
       "             Thursday         81236\n",
       "             Tuesday          15350\n",
       "             Wednesday        22175\n",
       "Name: visitors, dtype: int64"
      ]
     },
     "execution_count": 238,
     "metadata": {},
     "output_type": "execute_result"
    }
   ],
   "source": [
    "df_air_visit_train.groupby(['holiday_flg','day_of_week'])['visitors'].sum()"
   ]
  },
  {
   "cell_type": "code",
   "execution_count": 239,
   "metadata": {},
   "outputs": [],
   "source": [
    "df_air_visit_train.holiday_flg = df_air_visit_train.holiday_flg.astype('category')\n",
    "df_air_visit_train.day_of_week = df_air_visit_train.day_of_week.astype('category')\n",
    "df_air_visit_train.day_of_week = df_air_visit_train.day_of_week.map({\"Friday\":\"Fri\",\"Saturday\":\"Sat\",\"Sunday\":\"Sun\",\"Wednesday\":\"Wed\",\"Monday\":\"Mon\",\"Tuesday\":\"Tue\",\"Thursday\":\"Thu\"})"
   ]
  },
  {
   "cell_type": "code",
   "execution_count": null,
   "metadata": {},
   "outputs": [
    {
     "data": {
      "image/png": "[encoded data removed]",
      "text/plain": [
       "<matplotlib.figure.Figure at 0x2895ec28978>"
      ]
     },
     "metadata": {},
     "output_type": "display_data"
    },
    {
     "data": {
      "image/png": "[encoded data removed]",
      "text/plain": [
       "<matplotlib.figure.Figure at 0x28907074cf8>"
      ]
     },
     "metadata": {},
     "output_type": "display_data"
    }
   ],
   "source": [
    "sns.set(style='whitegrid')\n",
    "sns.factorplot(data=df_air_visit_train, x='day_of_week',y='visitors',hue='holiday_flg',kind='box',size=10)\n",
    "plt.title('Box Plot of holiday trend in  visitors with no reservations')\n",
    "sns.factorplot(data=df_air_visit_train, x='day_of_week',y='visitors',hue='holiday_flg',kind='bar',size=10)\n",
    "plt.title('Bar Plot holiday trend in  visitors with no reservations')\n",
    "plt.show()"
   ]
  },
  {
   "cell_type": "code",
   "execution_count": null,
   "metadata": {},
   "outputs": [],
   "source": [
    "sns.pointplot(data=df_air_visit_train, x='day_of_week',y='visitors',hue='holiday_flg',\n",
    "             palette = {0:\"g\",1:\"m\"},\n",
    "              markers=[\"^\", \"o\"], linestyles=[\"-\", \"--\"]\n",
    "             )\n",
    "plt.show()"
   ]
  },
  {
   "cell_type": "markdown",
   "metadata": {},
   "source": [
    "### Trend in visitor count with and without reservations"
   ]
  },
  {
   "cell_type": "code",
   "execution_count": null,
   "metadata": {},
   "outputs": [],
   "source": [
    "df1 = df_hpg_reserve_air_total[['visit_date', 'reserve_visitors']].groupby('visit_date').sum().reset_index()\n",
    "#df1.visit_date = df1.visit_date.astype('str')\n",
    "df2 = df_air_visit_train[['visit_date','visitors']].groupby('visit_date').sum().reset_index()\n",
    "#df2.visit_date = df2.visit_date.astype('str')"
   ]
  },
  {
   "cell_type": "code",
   "execution_count": null,
   "metadata": {},
   "outputs": [],
   "source": [
    "df1 = df1.set_index('visit_date')\n",
    "df2 = df2.set_index('visit_date')"
   ]
  },
  {
   "cell_type": "code",
   "execution_count": null,
   "metadata": {},
   "outputs": [],
   "source": [
    "df1.head()"
   ]
  },
  {
   "cell_type": "code",
   "execution_count": null,
   "metadata": {},
   "outputs": [],
   "source": [
    "df2.head()"
   ]
  },
  {
   "cell_type": "code",
   "execution_count": null,
   "metadata": {},
   "outputs": [],
   "source": [
    "f,ax=plt.subplots(1,1,figsize=(15,8))\n",
    "df1.plot(color='c',kind='line',ax=ax)\n",
    "df2.plot(color='r',kind='area',ax=ax)\n",
    "plt.ylabel('Visitor Count')\n",
    "plt.title('Trend in visitor count with and without reservations')\n",
    "plt.show()"
   ]
  },
  {
   "cell_type": "markdown",
   "metadata": {},
   "source": [
    "From the plot above, it can be inferred that very high number customers are visiting restaurant without reservations in combined\n",
    "air & hpg systems."
   ]
  },
  {
   "cell_type": "markdown",
   "metadata": {},
   "source": [
    "### Which Cuisine is most liked in overall restaurants"
   ]
  },
  {
   "cell_type": "markdown",
   "metadata": {},
   "source": [
    "#### In visitors(no reservations) data"
   ]
  },
  {
   "cell_type": "code",
   "execution_count": null,
   "metadata": {},
   "outputs": [],
   "source": [
    "df_air_visit_train.head()"
   ]
  },
  {
   "cell_type": "code",
   "execution_count": null,
   "metadata": {},
   "outputs": [],
   "source": [
    "df_hpg_reserve_air_total.head()"
   ]
  },
  {
   "cell_type": "code",
   "execution_count": null,
   "metadata": {},
   "outputs": [],
   "source": [
    "df1_genre = df_air_visit_train[['air_genre_name','visitors']].groupby('air_genre_name').sum().reset_index()\n",
    "df1_genre = df1_genre.set_index('air_genre_name')"
   ]
  },
  {
   "cell_type": "code",
   "execution_count": null,
   "metadata": {},
   "outputs": [],
   "source": [
    "f,ax=plt.subplots(1,1,figsize=(15,8))\n",
    "ax.set_xticklabels(ax.get_xticklabels(), fontsize=20)\n",
    "df1_genre.plot(color='c',kind='bar',ax=ax)\n",
    "plt.title(\"Trending Cuisine(No Reservations)\")\n",
    "plt.ylabel('Overall Restaurants Visitor Count')\n",
    "plt.xlabel('Cuisine')\n",
    "plt.show()"
   ]
  },
  {
   "cell_type": "markdown",
   "metadata": {},
   "source": [
    "#### From the plot above between cuisine and total visitor count, it is clear Most of the visitors ordered Izakaya food in total"
   ]
  },
  {
   "cell_type": "markdown",
   "metadata": {},
   "source": [
    "#### Visitors With Reservation"
   ]
  },
  {
   "cell_type": "code",
   "execution_count": null,
   "metadata": {},
   "outputs": [],
   "source": [
    "df2_genre = df_hpg_reserve_air_total[['air_genre_name','reserve_visitors']].groupby('air_genre_name').sum()"
   ]
  },
  {
   "cell_type": "code",
   "execution_count": null,
   "metadata": {},
   "outputs": [],
   "source": [
    "df2_genre"
   ]
  },
  {
   "cell_type": "code",
   "execution_count": null,
   "metadata": {},
   "outputs": [],
   "source": [
    "f,ax=plt.subplots(1,1,figsize=(15,8))\n",
    "ax.set_xticklabels(ax.get_xticklabels(), fontsize=20)\n",
    "df2_genre.plot(color='c',kind='bar',ax=ax)\n",
    "plt.title(\"Trending Cuisine(With reservations)\")\n",
    "plt.ylabel('Overall Restaurants Visitor Count')\n",
    "plt.xlabel('Cuisine')\n",
    "plt.show()"
   ]
  },
  {
   "cell_type": "markdown",
   "metadata": {},
   "source": [
    "##### From the plot above, it can be inferred that most of the reserved restaurants are those which serve Izakaya food."
   ]
  },
  {
   "cell_type": "markdown",
   "metadata": {},
   "source": [
    "#### Competition trends among restaurants based on location"
   ]
  },
  {
   "cell_type": "code",
   "execution_count": null,
   "metadata": {},
   "outputs": [],
   "source": [
    "df_air_visit_train.head()"
   ]
  },
  {
   "cell_type": "code",
   "execution_count": null,
   "metadata": {},
   "outputs": [],
   "source": [
    "df1_restaurant = df_air_visit_train[['latitude','longitude','air_store_id']]\n",
    "#dropping duplicates of weather location and air_store_ids\n",
    "df1_restaurant = df1_restaurant.drop_duplicates()\n",
    "df1_restaurant['location'] = df1_restaurant['latitude'] + df1_restaurant['longitude']"
   ]
  },
  {
   "cell_type": "code",
   "execution_count": null,
   "metadata": {},
   "outputs": [],
   "source": [
    "df1_restaurant = df1_restaurant.groupby('location').count().reset_index()"
   ]
  },
  {
   "cell_type": "code",
   "execution_count": null,
   "metadata": {},
   "outputs": [],
   "source": [
    "sns.regplot(data=df1_restaurant, x='location', y='air_store_id',fit_reg=False)\n",
    "plt.title(\"Location tracking of most visited(without reservations) competitive restaurants\")\n",
    "plt.show()"
   ]
  },
  {
   "cell_type": "code",
   "execution_count": null,
   "metadata": {},
   "outputs": [],
   "source": [
    "df_hpg_reserve_air_total.head()"
   ]
  },
  {
   "cell_type": "code",
   "execution_count": null,
   "metadata": {},
   "outputs": [],
   "source": [
    "df2_restaurant = df_hpg_reserve_air_total[['latitude','longitude','air_store_id']]\n",
    "#dropping duplicates of weather location and air_store_ids\n",
    "df2_restaurant = df2_restaurant.drop_duplicates()\n",
    "df2_restaurant['location'] = df2_restaurant['latitude'] + df2_restaurant['longitude']"
   ]
  },
  {
   "cell_type": "code",
   "execution_count": null,
   "metadata": {},
   "outputs": [],
   "source": [
    "df2_restaurant = df2_restaurant.groupby('location').count().reset_index()"
   ]
  },
  {
   "cell_type": "code",
   "execution_count": null,
   "metadata": {},
   "outputs": [],
   "source": [
    "sns.regplot(data=df2_restaurant, x='location', y='air_store_id',fit_reg=False)\n",
    "plt.title(\"Location tracking of most reserved competitive restaurants\")\n",
    "plt.show()"
   ]
  },
  {
   "cell_type": "markdown",
   "metadata": {},
   "source": [
    "Most competitive restaturants with reservations are located in a place where the sum of of latitide and logitude is approximate to 175.\n"
   ]
  },
  {
   "cell_type": "code",
   "execution_count": null,
   "metadata": {},
   "outputs": [],
   "source": []
  }
 ],
 "metadata": {
  "kernelspec": {
   "display_name": "Python 3",
   "language": "python",
   "name": "python3"
  },
  "language_info": {
   "codemirror_mode": {
    "name": "ipython",
    "version": 3
   },
   "file_extension": ".py",
   "mimetype": "text/x-python",
   "name": "python",
   "nbconvert_exporter": "python",
   "pygments_lexer": "ipython3",
   "version": "3.6.3"
  }
 },
 "nbformat": 4,
 "nbformat_minor": 2
}
